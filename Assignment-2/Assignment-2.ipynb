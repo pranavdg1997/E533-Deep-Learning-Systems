{
 "cells": [
  {
   "cell_type": "code",
   "execution_count": 1,
   "metadata": {
    "ExecuteTime": {
     "end_time": "2019-11-06T18:24:23.495174Z",
     "start_time": "2019-11-06T18:24:21.612962Z"
    }
   },
   "outputs": [
    {
     "name": "stdout",
     "output_type": "stream",
     "text": [
      "GeForce GTX 1050\n"
     ]
    }
   ],
   "source": [
    "#importing basic libraries\n",
    "import numpy as np\n",
    "import pandas as pd\n",
    "import matplotlib.pyplot as plt\n",
    "import seaborn as sns\n",
    "import os\n",
    "%matplotlib inline\n",
    "\n",
    "#Importing pytorch functions and modules\n",
    "import torch\n",
    "#device = torch.device(\"cpu\")\n",
    "device = torch.device(\"cuda:0\" if torch.cuda.is_available() else \"cpu\")\n",
    "print(torch.cuda.get_device_name(0))\n",
    "import torch.nn as nn\n",
    "import torch.nn.functional as F\n",
    "from torch import optim\n",
    "import torchvision\n",
    "import torchvision.datasets as datasets\n",
    "from torchvision import transforms\n",
    "\n",
    "\n",
    "import librosa\n",
    "from librosa.core import stft,istft\n",
    "from  sklearn.model_selection import train_test_split\n",
    "from sklearn.metrics import *\n",
    "from math import log\n",
    "\n",
    "#Setting random seed for reproducibility\n",
    "SEED = 1234\n",
    "torch.manual_seed(SEED)\n",
    "np.random.seed(SEED)\n",
    "torch.backends.cudnn.deterministic = True\n",
    "torch.backends.cudnn.benchmark = False"
   ]
  },
  {
   "cell_type": "markdown",
   "metadata": {},
   "source": [
    "# Helper functions"
   ]
  },
  {
   "cell_type": "code",
   "execution_count": 2,
   "metadata": {
    "ExecuteTime": {
     "end_time": "2019-11-06T18:24:23.564831Z",
     "start_time": "2019-11-06T18:24:23.497151Z"
    }
   },
   "outputs": [],
   "source": [
    "#Uniform weight initilization\n",
    "def weights_init_uniform_rule(m):\n",
    "        classname = m.__class__.__name__\n",
    "        # for every Linear layer in a model..\n",
    "        if classname.find('Linear') != -1:\n",
    "            # get the number of the inputs\n",
    "            n = m.in_features\n",
    "            y = 1.0/np.sqrt(n)\n",
    "            m.weight.data.uniform_(-y, y)\n",
    "            m.bias.data.fill_(0)\n",
    "            \n",
    "#Return negative of MSE, since we need a metric we can maximize            \n",
    "def neg_mean_squared_error(y_true,y_pred):\n",
    "    return((-1)*(mean_squared_error(y_true,y_pred)))\n",
    "\n",
    "#Reproduce time domain signal from magnitude\n",
    "def get_time_domain_signal(S,S_dir,length):\n",
    "    S_complex = np.multiply(S,S_dir)\n",
    "    return(istft(S_complex, hop_length=512, length = length))\n",
    "\n",
    "\n",
    "#Calculate SNR of a predicted denoised signal by comparing to actual signal in time domain\n",
    "def get_snr(s_actual,s_pred):\n",
    "    num = np.dot(s_actual,s_actual)\n",
    "    den = np.dot((s_actual-s_pred),(s_actual-s_pred))\n",
    "    return(10*log(num/den,10))\n",
    "\n",
    "# After training a neural network, this function uses the trained model object, \n",
    "# does a forward pass of the noisy sound and writes the predicted signal output\n",
    "def clean_signal(input_file,output_file,model,device):\n",
    "    \"\"\"\n",
    "    params :\n",
    "    input_file = name of input wav file to read\n",
    "    output_file = name of output wav file to write\n",
    "    model = pretrained model object for prediction\n",
    "    device = device(pytorch) on which model is trained\n",
    "    \"\"\"\n",
    "    x, sr=librosa.load(input_file, sr=None)\n",
    "    X_complex=stft(x, n_fft=1024, hop_length=512)\n",
    "    X = np.abs(X_complex.T)\n",
    "\n",
    "\n",
    "    X_dir = np.divide(X_complex,X.T)\n",
    "    X = torch.tensor(X).to(device)\n",
    "    D = X.shape[1]\n",
    "    n_data = X.shape[0]\n",
    "\n",
    "    X = X.reshape([n_data,1,D])\n",
    "\n",
    "    X_clean_pred = model.forward(X).detach().cpu().numpy()\n",
    "\n",
    "    x_clean_pred = get_time_domain_signal(X_clean_pred.T,X_dir,length=len(x))\n",
    "    librosa.output.write_wav(output_file,x_clean_pred, sr)\n",
    "    return\n",
    "\n",
    "def clean_signal1(input_file,output_file,model,device):\n",
    "    \"\"\"\n",
    "    params :\n",
    "    input_file = name of input wav file to read\n",
    "    output_file = name of output wav file to write\n",
    "    model = pretrained model object for prediction\n",
    "    device = device(pytorch) on which model is trained\n",
    "    \"\"\"\n",
    "    x, sr=librosa.load(input_file, sr=None)\n",
    "    X_complex=stft(x, n_fft=1024, hop_length=512)\n",
    "    X = np.abs(X_complex.T)\n",
    "\n",
    "\n",
    "    X_dir = np.divide(X_complex,X.T)\n",
    "    X = torch.tensor(X).to(device)\n",
    "    D = X.shape[1]\n",
    "    n_data = X.shape[0]\n",
    "\n",
    "    X = X.reshape([n_data,1,D])\n",
    "\n",
    "    X_clean_pred = model.forward(X).detach().cpu().numpy()\n",
    "\n",
    "    x_clean_pred = get_time_domain_signal(X_clean_pred.T,X_dir,length=len(x))\n",
    "    librosa.output.write_wav(output_file,x_clean_pred, sr)\n",
    "    return\n",
    "\n",
    "\n",
    "# Custom function to train a pytorch neural network with early stopping \n",
    "# if validation score doesn't improve after 10 epochs\n",
    "def train_neural_network(model,train_dataset,val_dataset,epochs,early_stopping_rounds,batch_size,\n",
    "                         learning_rate,verbose,criterion,eval_func,device):\n",
    "  \n",
    "  \n",
    "    #Dictionary where all the important outputs will be kept\n",
    "    result_dict = dict()\n",
    "    #Reading number of samples in each set\n",
    "    n_train = len(train_dataset)\n",
    "    n_val = len(val_dataset)\n",
    "\n",
    "    # Data loader, using custom user provided batch size\n",
    "    train_loader = torch.utils.data.DataLoader(dataset=train_dataset, \n",
    "                                                 batch_size=batch_size, \n",
    "                                                 shuffle=True)\n",
    "\n",
    "    val_loader = torch.utils.data.DataLoader(dataset=val_dataset, \n",
    "                                                 batch_size=n_val, \n",
    "                                                 shuffle=True)\n",
    "\n",
    "\n",
    "\n",
    "    # Optimizer\n",
    "    optimizer = torch.optim.Adam(model.parameters(), lr=learning_rate)\n",
    "\n",
    "\n",
    "    # Train the model\n",
    "    epoch=1\n",
    "    stop=0\n",
    "    best_performance = -100000\n",
    "    rounds = 0\n",
    "    stop = False\n",
    "    model = model.to(device)\n",
    "\n",
    "      #Training while loop \n",
    "    if(verbose==True):\n",
    "        print(\"Training commenced\")\n",
    "    while ((epoch <= epochs)and(stop==False)):\n",
    "        train_loss = 0\n",
    "        for batch, labels in train_loader:  \n",
    "            # Move tensors to GPU/CPU\n",
    "\n",
    "            batch = batch.to(device)\n",
    "            labels = labels.to(device)\n",
    "\n",
    "            # Forward pass\n",
    "            outputs = model.forward(batch)\n",
    "            loss = criterion(outputs, labels)\n",
    "\n",
    "            # Backward and optimize\n",
    "            optimizer.zero_grad()\n",
    "            loss.backward()\n",
    "            optimizer.step()\n",
    "\n",
    "            train_loss += loss.item()\n",
    "\n",
    "\n",
    "        with torch.no_grad():\n",
    "            val_batch,val_labels = next(iter(val_loader))\n",
    "            val_batch = val_batch.to(device)\n",
    "            val_labels_pred = model.forward(val_batch).cpu().numpy()\n",
    "\n",
    "            performance = eval_func(val_labels.cpu().numpy(),val_labels_pred)\n",
    "\n",
    "\n",
    "        #Check if we have an increase in performance\n",
    "        if(performance > best_performance):\n",
    "            rounds = 0\n",
    "            best_performance = performance\n",
    "            best_prediction = val_labels_pred\n",
    "            best_state_dict = model.state_dict()\n",
    "            result_dict[\"train_loader\"] = train_loader\n",
    "            result_dict[\"val_batch\"] = val_batch\n",
    "            result_dict[\"val_labels\"] = val_labels\n",
    "            result_dict[\"best_model\"] = model\n",
    "            result_dict[\"val_labels_pred\"] = best_prediction\n",
    "            result_dict[\"best_performance\"] = best_performance\n",
    "        else:\n",
    "            rounds += 1\n",
    "            if(rounds == early_stopping_rounds):\n",
    "                stop = True\n",
    "\n",
    "\n",
    "        #Print statement, every 5 epochs or if it is the last epoch\n",
    "        if(((epoch%5==0)|(stop==True))&(verbose==True)):\n",
    "            print(\"EPOCH:\"+str(epoch))\n",
    "            if(stop==True):\n",
    "                print(\"Training to be concluded after this epoch\") \n",
    "            print(\"Average training loss per sample  = \"+str(train_loss))\n",
    "            print('Performance of the network in current epoch = '+str(round(performance,4)))\n",
    "            print('Best performance of the network yet  = '+str(round(best_performance,4)))\n",
    "\n",
    "\n",
    "        epoch += 1\n",
    "    #While loop ends\n",
    "\n",
    "    print(\"BEST SCORE IS:\"+str(best_performance))\n",
    "    return(result_dict)"
   ]
  },
  {
   "cell_type": "markdown",
   "metadata": {},
   "source": [
    "# Problem-1"
   ]
  },
  {
   "cell_type": "code",
   "execution_count": 3,
   "metadata": {
    "ExecuteTime": {
     "end_time": "2019-11-06T18:24:27.044805Z",
     "start_time": "2019-11-06T18:24:25.751970Z"
    }
   },
   "outputs": [
    {
     "name": "stdout",
     "output_type": "stream",
     "text": [
      "(513, 2459)\n",
      "(513, 2459)\n"
     ]
    },
    {
     "ename": "RuntimeError",
     "evalue": "CUDA error: out of memory",
     "output_type": "error",
     "traceback": [
      "\u001b[0;31m---------------------------------------------------------------------------\u001b[0m",
      "\u001b[0;31mRuntimeError\u001b[0m                              Traceback (most recent call last)",
      "\u001b[0;32m<ipython-input-3-b1b81bf91a53>\u001b[0m in \u001b[0;36m<module>\u001b[0;34m\u001b[0m\n\u001b[1;32m     13\u001b[0m \u001b[0;34m\u001b[0m\u001b[0m\n\u001b[1;32m     14\u001b[0m \u001b[0mX_dir\u001b[0m \u001b[0;34m=\u001b[0m \u001b[0mnp\u001b[0m\u001b[0;34m.\u001b[0m\u001b[0mdivide\u001b[0m\u001b[0;34m(\u001b[0m\u001b[0mX_complex\u001b[0m\u001b[0;34m,\u001b[0m\u001b[0mX\u001b[0m\u001b[0;34m.\u001b[0m\u001b[0mT\u001b[0m\u001b[0;34m)\u001b[0m\u001b[0;34m\u001b[0m\u001b[0;34m\u001b[0m\u001b[0m\n\u001b[0;32m---> 15\u001b[0;31m \u001b[0mX\u001b[0m \u001b[0;34m=\u001b[0m \u001b[0mtorch\u001b[0m\u001b[0;34m.\u001b[0m\u001b[0mtensor\u001b[0m\u001b[0;34m(\u001b[0m\u001b[0mX\u001b[0m\u001b[0;34m)\u001b[0m\u001b[0;34m.\u001b[0m\u001b[0mto\u001b[0m\u001b[0;34m(\u001b[0m\u001b[0mdevice\u001b[0m\u001b[0;34m)\u001b[0m\u001b[0;34m\u001b[0m\u001b[0;34m\u001b[0m\u001b[0m\n\u001b[0m\u001b[1;32m     16\u001b[0m \u001b[0mS\u001b[0m \u001b[0;34m=\u001b[0m \u001b[0mtorch\u001b[0m\u001b[0;34m.\u001b[0m\u001b[0mtensor\u001b[0m\u001b[0;34m(\u001b[0m\u001b[0mS\u001b[0m\u001b[0;34m)\u001b[0m\u001b[0;34m.\u001b[0m\u001b[0mto\u001b[0m\u001b[0;34m(\u001b[0m\u001b[0mdevice\u001b[0m\u001b[0;34m)\u001b[0m\u001b[0;34m\u001b[0m\u001b[0;34m\u001b[0m\u001b[0m\n\u001b[1;32m     17\u001b[0m \u001b[0;34m\u001b[0m\u001b[0m\n",
      "\u001b[0;31mRuntimeError\u001b[0m: CUDA error: out of memory"
     ]
    }
   ],
   "source": [
    "s, sr=librosa.load(\"train_clean_male.wav\", sr=None)\n",
    "S_complex=stft(s, n_fft=1024, hop_length=512)\n",
    "x, sr=librosa.load(\"train_dirty_male.wav\", sr=None)\n",
    "X_complex=stft(x, n_fft=1024, hop_length=512)\n",
    "\n",
    "\n",
    "\n",
    "print(X_complex.shape)\n",
    "print(S_complex.shape)\n",
    "\n",
    "X = np.abs(X_complex.T)\n",
    "S = np.abs(S_complex.T)\n",
    "\n",
    "X_dir = np.divide(X_complex,X.T)\n",
    "X = torch.tensor(X).to(device)\n",
    "S = torch.tensor(S).to(device)\n",
    "\n",
    "print(X.shape)"
   ]
  },
  {
   "cell_type": "code",
   "execution_count": null,
   "metadata": {
    "ExecuteTime": {
     "end_time": "2019-11-06T18:24:27.046778Z",
     "start_time": "2019-11-06T18:24:26.335Z"
    }
   },
   "outputs": [],
   "source": [
    "#Defining shapes\n",
    "H = 1\n",
    "D = X.shape[1]\n",
    "K = 1\n",
    "\n",
    "H_out = 1\n",
    "D_out = S.shape[1]\n",
    "K_out = 1\n",
    "n_data = X.shape[0]"
   ]
  },
  {
   "attachments": {
    "image.png": {
     "image/png": "[encoded data removed]"
    }
   },
   "cell_type": "markdown",
   "metadata": {},
   "source": [
    "## Defining model class \n",
    "We calculate output shpaes based on the following formulae from Pytorch documentation\n",
    "### Output size of 1D Convolution layer\n",
    "![image.png](attachment:image.png)\n",
    "### Output size of 1D Maxpooling layer\n",
    "![image.png](attachment:image.png)"
   ]
  },
  {
   "cell_type": "code",
   "execution_count": 4,
   "metadata": {
    "ExecuteTime": {
     "end_time": "2019-11-06T18:24:30.013938Z",
     "start_time": "2019-11-06T18:24:30.005347Z"
    }
   },
   "outputs": [],
   "source": [
    "class Network1d(nn.Module):\n",
    "    def __init__(\n",
    "            self,\n",
    "            K,\n",
    "            H,\n",
    "            D,\n",
    "            K_out,\n",
    "            H_out,\n",
    "            D_out,\n",
    "            dropout=0.2,\n",
    "            stride=1,\n",
    "    ):\n",
    "        super(Network1d, self).__init__()\n",
    "        self.dropout = nn.Dropout(dropout)\n",
    "        self.relu = F.relu\n",
    "        \n",
    "        self.K_hidden1 = 5\n",
    "        self.D_hidden1 = 256\n",
    "        self.stride = stride\n",
    "        self.maxp1_K = 2\n",
    "\n",
    "        self.D_last = self.get_conv1d_shape(D_in=D,\n",
    "                                            K_hidden=self.K_hidden1,\n",
    "                                            D_hidden=self.D_hidden1,\n",
    "                                            stride=self.stride,\n",
    "                                            maxp_K=self.maxp1_K)\n",
    "        \n",
    "        self.conv1 = nn.Conv1d(in_channels=K,\n",
    "                               out_channels=self.K_hidden1,\n",
    "                               kernel_size=self.D_hidden1,\n",
    "                               stride=self.stride)\n",
    "        self.maxp1 = nn.MaxPool1d(kernel_size=2)\n",
    "        self.D_linear = int((self.K_hidden1*self.D_last + D_out)/2)\n",
    "        self.fc1 = nn.Linear(self.K_hidden1*self.D_last,self.D_linear)\n",
    "        self.fc2 = nn.Linear(self.D_linear,D_out)\n",
    "        \n",
    "        \n",
    "\n",
    "    def forward(self, x):\n",
    "        \n",
    "        x = self.conv1(x)\n",
    "        x = self.relu(x)\n",
    "        x = self.maxp1(x)\n",
    "        x = self.dropout(x)\n",
    "        \n",
    "        x = x.view(-1,self.K_hidden1*self.D_last)\n",
    "        x = self.fc1(x)\n",
    "        x = self.relu(x)\n",
    "        x = self.dropout(x)\n",
    "\n",
    "        x = self.fc2(x)\n",
    "        x = self.relu(x)\n",
    "\n",
    "        return(x)\n",
    "    \n",
    "    def get_conv1d_shape(self,D_in,K_hidden,D_hidden,stride,maxp_K):\n",
    "        l_out = (D_in - (D_hidden-1) -1)/(stride) + 1\n",
    "        l_out = int(l_out)\n",
    "        l_ans = (l_out - (maxp_K-1) -1)/(maxp_K) + 1\n",
    "        l_ans = int(l_ans)\n",
    "        return(l_ans)"
   ]
  },
  {
   "cell_type": "markdown",
   "metadata": {},
   "source": [
    "## Preparing data"
   ]
  },
  {
   "cell_type": "code",
   "execution_count": 6,
   "metadata": {},
   "outputs": [
    {
     "name": "stdout",
     "output_type": "stream",
     "text": [
      "torch.Size([1844, 1, 513])\n",
      "torch.Size([615, 1, 513])\n"
     ]
    }
   ],
   "source": [
    "\n",
    "from sklearn.model_selection import train_test_split\n",
    "X = X.reshape([n_data,1,D])\n",
    "S = S.reshape([n_data,D_out])\n",
    "\n",
    "X_ind = np.array(range(0,n_data))\n",
    "S_ind = np.array(range(0,n_data))\n",
    "\n",
    "X_train_ind,X_val_ind,S_train_ind,S_val_ind = train_test_split(X_ind,S_ind,test_size=0.25,shuffle=True,random_state=SEED)\n",
    "X_train = X[X_train_ind,:,:]\n",
    "print(X_train.shape)\n",
    "X_val = X[X_val_ind,:,:]\n",
    "print(X_val.shape)\n",
    "S_train = S[S_train_ind,:]\n",
    "S_val = S[S_val_ind,:]\n",
    "\n",
    "train_dataset = torch.utils.data.TensorDataset(X_train,S_train)\n",
    "val_dataset = torch.utils.data.TensorDataset(X_val,S_val)\n",
    "\n"
   ]
  },
  {
   "cell_type": "markdown",
   "metadata": {},
   "source": [
    "## Training the network"
   ]
  },
  {
   "cell_type": "code",
   "execution_count": 7,
   "metadata": {
    "scrolled": true
   },
   "outputs": [
    {
     "name": "stdout",
     "output_type": "stream",
     "text": [
      "Training commenced\n",
      "EPOCH:5\n",
      "Average training loss per sample  = 0.30138872284442186\n",
      "Performance of the network in current epoch = -0.0354\n",
      "Best performance of the network yet  = -0.0354\n",
      "EPOCH:10\n",
      "Average training loss per sample  = 0.14664417039602995\n",
      "Performance of the network in current epoch = -0.0191\n",
      "Best performance of the network yet  = -0.0191\n",
      "EPOCH:15\n",
      "Average training loss per sample  = 0.09563390910625458\n",
      "Performance of the network in current epoch = -0.0146\n",
      "Best performance of the network yet  = -0.0146\n",
      "EPOCH:20\n",
      "Average training loss per sample  = 0.07805062225088477\n",
      "Performance of the network in current epoch = -0.0129\n",
      "Best performance of the network yet  = -0.0129\n",
      "EPOCH:25\n",
      "Average training loss per sample  = 0.06004775548353791\n",
      "Performance of the network in current epoch = -0.0114\n",
      "Best performance of the network yet  = -0.0114\n",
      "EPOCH:30\n",
      "Average training loss per sample  = 0.05245628673583269\n",
      "Performance of the network in current epoch = -0.0105\n",
      "Best performance of the network yet  = -0.0105\n",
      "EPOCH:35\n",
      "Average training loss per sample  = 0.04789007711224258\n",
      "Performance of the network in current epoch = -0.0101\n",
      "Best performance of the network yet  = -0.0101\n",
      "EPOCH:40\n",
      "Average training loss per sample  = 0.04213100136257708\n",
      "Performance of the network in current epoch = -0.0095\n",
      "Best performance of the network yet  = -0.0095\n",
      "EPOCH:45\n",
      "Average training loss per sample  = 0.038313940865918994\n",
      "Performance of the network in current epoch = -0.009\n",
      "Best performance of the network yet  = -0.009\n",
      "EPOCH:50\n",
      "Average training loss per sample  = 0.035773816518485546\n",
      "Performance of the network in current epoch = -0.009\n",
      "Best performance of the network yet  = -0.009\n",
      "EPOCH:55\n",
      "Average training loss per sample  = 0.033243013778701425\n",
      "Performance of the network in current epoch = -0.0087\n",
      "Best performance of the network yet  = -0.0087\n",
      "EPOCH:60\n",
      "Average training loss per sample  = 0.031298519810661674\n",
      "Performance of the network in current epoch = -0.0084\n",
      "Best performance of the network yet  = -0.0084\n",
      "EPOCH:65\n",
      "Average training loss per sample  = 0.028533935546875\n",
      "Performance of the network in current epoch = -0.0083\n",
      "Best performance of the network yet  = -0.0083\n",
      "EPOCH:70\n",
      "Average training loss per sample  = 0.028030570363625884\n",
      "Performance of the network in current epoch = -0.0082\n",
      "Best performance of the network yet  = -0.0081\n",
      "EPOCH:75\n",
      "Average training loss per sample  = 0.026711913524195552\n",
      "Performance of the network in current epoch = -0.008\n",
      "Best performance of the network yet  = -0.008\n",
      "EPOCH:80\n",
      "Average training loss per sample  = 0.025932130869477987\n",
      "Performance of the network in current epoch = -0.0081\n",
      "Best performance of the network yet  = -0.008\n",
      "EPOCH:85\n",
      "Average training loss per sample  = 0.02446774614509195\n",
      "Performance of the network in current epoch = -0.0079\n",
      "Best performance of the network yet  = -0.0078\n",
      "EPOCH:90\n",
      "Average training loss per sample  = 0.02480975748039782\n",
      "Performance of the network in current epoch = -0.008\n",
      "Best performance of the network yet  = -0.0077\n",
      "EPOCH:95\n",
      "Average training loss per sample  = 0.024517214973457158\n",
      "Performance of the network in current epoch = -0.0082\n",
      "Best performance of the network yet  = -0.0077\n",
      "EPOCH:97\n",
      "Training to be concluded after this epoch\n",
      "Average training loss per sample  = 0.024409353150986135\n",
      "Performance of the network in current epoch = -0.0078\n",
      "Best performance of the network yet  = -0.0077\n",
      "BEST SCORE IS:-0.007706715725362301\n"
     ]
    }
   ],
   "source": [
    "#Defining hyper parameters \n",
    "batch_size = 200\n",
    "dropout = 0\n",
    "learning_rate = 0.001\n",
    "epochs=200\n",
    "early_stopping_rounds = 10\n",
    "stride=1\n",
    "criterion = nn.MSELoss()\n",
    "\n",
    "cnn1d = Network1d(\n",
    "            K=K,\n",
    "            H=H,\n",
    "            D=D,\n",
    "            K_out=K_out,\n",
    "            H_out=H_out,\n",
    "            D_out=D_out,\n",
    "            dropout=dropout,\n",
    "    )\n",
    "result_dict = train_neural_network(cnn1d,\n",
    "                                   train_dataset,\n",
    "                                   val_dataset,\n",
    "                                   epochs,\n",
    "                                   early_stopping_rounds,\n",
    "                                   batch_size,\n",
    "                                   learning_rate,\n",
    "                                   verbose=True,\n",
    "                                   criterion=criterion,\n",
    "                                   eval_func=neg_mean_squared_error,\n",
    "                                   device=device)     "
   ]
  },
  {
   "cell_type": "markdown",
   "metadata": {
    "heading_collapsed": true
   },
   "source": [
    "## Validating result and writing output file"
   ]
  },
  {
   "cell_type": "code",
   "execution_count": 8,
   "metadata": {
    "hidden": true
   },
   "outputs": [
    {
     "name": "stdout",
     "output_type": "stream",
     "text": [
      "Mean Squared Error = 0.0037034014\n",
      "SNR = 14.686415151181784\n"
     ]
    }
   ],
   "source": [
    "S_pred = cnn1d.forward(X).detach().cpu().numpy()\n",
    "s_pred = get_time_domain_signal(S_pred.T,X_dir,length=len(x))\n",
    "print(\"Mean Squared Error = \"+str(mean_squared_error(S.cpu().numpy(),S_pred)))\n",
    "print(\"SNR = \"+str(get_snr(s,s_pred)))"
   ]
  },
  {
   "cell_type": "code",
   "execution_count": 9,
   "metadata": {
    "hidden": true
   },
   "outputs": [],
   "source": [
    "clean_signal(\"train_dirty_male.wav\",\"test_clean_male_pred_prob1.wav\",cnn1d,device)\n",
    "clean_signal(\"test_x_01.wav\",\"test_x_01_pred_prob1.wav\",cnn1d,device)\n",
    "clean_signal(\"test_x_02.wav\",\"test_x_02_pred_prob1.wav\",cnn1d,device)"
   ]
  },
  {
   "cell_type": "markdown",
   "metadata": {},
   "source": [
    "# Problem-2"
   ]
  },
  {
   "cell_type": "code",
   "execution_count": 3,
   "metadata": {},
   "outputs": [
    {
     "name": "stdout",
     "output_type": "stream",
     "text": [
      "(513, 2459)\n",
      "(513, 2459)\n",
      "16000\n"
     ]
    }
   ],
   "source": [
    "s, sr=librosa.load(\"train_clean_male.wav\", sr=None)\n",
    "S_complex=stft(s, n_fft=1024, hop_length=512)\n",
    "x, sr=librosa.load(\"train_dirty_male.wav\", sr=None)\n",
    "X_complex=stft(x, n_fft=1024, hop_length=512)\n",
    "\n",
    "\n",
    "\n",
    "print(X_complex.shape)\n",
    "print(S_complex.shape)\n",
    "\n",
    "X = np.abs(X_complex.T)\n",
    "S = np.abs(S_complex.T)\n",
    "\n",
    "#unit direction vector of X(used in recreating sound signal from predicted output)\n",
    "X_dir = np.divide(X_complex,X.T)\n",
    "\n",
    "\n",
    "X = torch.tensor(X).to(device)\n",
    "S = torch.tensor(S).to(device)\n",
    "\n",
    "print(sr)"
   ]
  },
  {
   "attachments": {
    "image.png": {
     "image/png": "[encoded data removed]"
    }
   },
   "cell_type": "markdown",
   "metadata": {},
   "source": [
    "## Defining model class\n",
    "We caluclate output shapes based on the following formulae from Pytorch documentation\n",
    "### Output of 2D convolution layer\n",
    "![image.png](attachment:image.png)\n",
    "### Output of 2D Maxpooling layer\n",
    "![image.png](attachment:image.png)"
   ]
  },
  {
   "cell_type": "code",
   "execution_count": 4,
   "metadata": {},
   "outputs": [],
   "source": [
    "class Network2d(nn.Module):\n",
    "    def __init__(\n",
    "            self,\n",
    "            K,\n",
    "            H,\n",
    "            D,\n",
    "            D_out,\n",
    "            dropout=0,\n",
    "            stride=1,\n",
    "    ):\n",
    "        super(Network2d, self).__init__()\n",
    "        self.dropout = nn.Dropout(dropout)\n",
    "        self.relu = F.relu\n",
    "        \n",
    "        self.K_hidden1 = 5\n",
    "        self.H_hidden1 = 10\n",
    "        self.D_hidden1 = 256\n",
    "        self.stride = stride\n",
    "        self.maxp1_K = [2,2]\n",
    "\n",
    "\n",
    "        self.conv1 = nn.Conv2d(in_channels=K,\n",
    "                               out_channels=self.K_hidden1,\n",
    "                               kernel_size=[self.H_hidden1,self.D_hidden1],\n",
    "                               stride=self.stride)\n",
    "        self.maxp1 = nn.MaxPool2d(kernel_size=self.maxp1_K)\n",
    "\n",
    "        self.H_last,self.D_last = self.get_conv2d_shape(H_in=H,\n",
    "                                           D_in=D,\n",
    "                                           H_hidden = self.H_hidden1,\n",
    "                                           D_hidden = self.D_hidden1,\n",
    "                                           stride=self.stride,\n",
    "                                           maxp_K=self.maxp1_K)\n",
    "\n",
    "        self.fc1 = nn.Linear(self.K_hidden1*self.H_last*self.D_last,D_out)\n",
    "        \n",
    "        \n",
    "\n",
    "    def forward(self, x):\n",
    "        \n",
    "        x = self.conv1(x)\n",
    "        x = self.relu(x)\n",
    "        x = self.maxp1(x)\n",
    "        x = self.dropout(x)\n",
    "        \n",
    "        x = x.view(-1,self.K_hidden1*self.H_last*self.D_last)\n",
    "        x = self.fc1(x)\n",
    "        x = self.relu(x)\n",
    "        \n",
    "        return(x)\n",
    "    \n",
    "    def get_conv2d_shape(self,H_in,D_in,H_hidden,D_hidden,stride,maxp_K):\n",
    "        h_out_c = (H_in - (H_hidden-1) - 1)/stride + 1\n",
    "        d_out_c = (D_in - (D_hidden-1) - 1)/stride + 1\n",
    "        \n",
    "        h_out = (h_out_c - (maxp_K[0]-1) - 1)/maxp_K[0] + 1\n",
    "        d_out = (d_out_c - (maxp_K[1]-1) - 1)/maxp_K[1] + 1\n",
    "        return([int(h_out),int(d_out)])"
   ]
  },
  {
   "cell_type": "markdown",
   "metadata": {},
   "source": [
    "## Preparing Data"
   ]
  },
  {
   "cell_type": "code",
   "execution_count": 5,
   "metadata": {
    "scrolled": true
   },
   "outputs": [],
   "source": [
    "#setting dimensions\n",
    "frames_to_use = 20\n",
    "H = frames_to_use\n",
    "D = X.shape[1]\n",
    "K = 1\n",
    "D_out = S.shape[1]\n",
    "n_data = X.shape[0] - (frames_to_use-1)\n",
    "\n",
    "\n",
    "\n",
    "\n",
    "#Creating frames to train and test\n",
    "X_dataset = torch.zeros([n_data,1,frames_to_use,D])\n",
    "Y_dataset = torch.zeros([n_data,D_out])\n",
    "for i in range(0,n_data):\n",
    "    X_dataset[i,0,:,:]=X[i:i+frames_to_use,:]\n",
    "    Y_dataset[i,:] = S[i+(frames_to_use-1),:]\n",
    "X_dataset = X_dataset.to(device)\n",
    "Y_dataset = Y_dataset.to(device)\n",
    "\n",
    "\n",
    "#Train validation spllit\n",
    "X_ind = np.array(range(0,n_data))\n",
    "S_ind = np.array(range(0,n_data))\n",
    "X_train_ind,X_val_ind,S_train_ind,S_val_ind = train_test_split(X_ind,S_ind,test_size=0.25,\n",
    "                                                               shuffle=True,random_state=SEED)\n",
    "X_train = X_dataset[X_train_ind,:,:,:]\n",
    "X_val = X_dataset[X_val_ind,:,:,:]\n",
    "S_train = Y_dataset[S_train_ind,:]\n",
    "S_val = Y_dataset[S_val_ind,:]\n",
    "train_dataset = torch.utils.data.TensorDataset(X_train,S_train)\n",
    "val_dataset = torch.utils.data.TensorDataset(X_val,S_val)\n",
    "\n"
   ]
  },
  {
   "cell_type": "markdown",
   "metadata": {},
   "source": [
    "## Training the model"
   ]
  },
  {
   "cell_type": "code",
   "execution_count": 6,
   "metadata": {
    "scrolled": true
   },
   "outputs": [
    {
     "name": "stdout",
     "output_type": "stream",
     "text": [
      "Training commenced\n",
      "EPOCH:5\n",
      "Average training loss per sample  = 0.7956984955817461\n",
      "Performance of the network in current epoch = -0.0691\n",
      "Best performance of the network yet  = -0.0691\n",
      "EPOCH:10\n",
      "Average training loss per sample  = 0.6485619209706783\n",
      "Performance of the network in current epoch = -0.061\n",
      "Best performance of the network yet  = -0.061\n",
      "EPOCH:15\n",
      "Average training loss per sample  = 0.5709756202995777\n",
      "Performance of the network in current epoch = -0.056\n",
      "Best performance of the network yet  = -0.056\n",
      "EPOCH:20\n",
      "Average training loss per sample  = 0.4737137332558632\n",
      "Performance of the network in current epoch = -0.0524\n",
      "Best performance of the network yet  = -0.0524\n",
      "EPOCH:25\n",
      "Average training loss per sample  = 0.42210487835109234\n",
      "Performance of the network in current epoch = -0.0507\n",
      "Best performance of the network yet  = -0.0505\n",
      "EPOCH:30\n",
      "Average training loss per sample  = 0.3736446909606457\n",
      "Performance of the network in current epoch = -0.0482\n",
      "Best performance of the network yet  = -0.0482\n",
      "EPOCH:35\n",
      "Average training loss per sample  = 0.3406200334429741\n",
      "Performance of the network in current epoch = -0.0464\n",
      "Best performance of the network yet  = -0.0464\n",
      "EPOCH:40\n",
      "Average training loss per sample  = 0.3133110124617815\n",
      "Performance of the network in current epoch = -0.0449\n",
      "Best performance of the network yet  = -0.0449\n",
      "EPOCH:45\n",
      "Average training loss per sample  = 0.2886746497824788\n",
      "Performance of the network in current epoch = -0.0446\n",
      "Best performance of the network yet  = -0.0446\n",
      "EPOCH:50\n",
      "Average training loss per sample  = 0.27658022567629814\n",
      "Performance of the network in current epoch = -0.0441\n",
      "Best performance of the network yet  = -0.0441\n",
      "EPOCH:55\n",
      "Average training loss per sample  = 0.25784454587846994\n",
      "Performance of the network in current epoch = -0.0429\n",
      "Best performance of the network yet  = -0.0429\n",
      "EPOCH:60\n",
      "Average training loss per sample  = 0.2326317634433508\n",
      "Performance of the network in current epoch = -0.0427\n",
      "Best performance of the network yet  = -0.0425\n",
      "EPOCH:65\n",
      "Average training loss per sample  = 0.22714782133698463\n",
      "Performance of the network in current epoch = -0.0422\n",
      "Best performance of the network yet  = -0.0422\n",
      "EPOCH:70\n",
      "Average training loss per sample  = 0.21464144345372915\n",
      "Performance of the network in current epoch = -0.0419\n",
      "Best performance of the network yet  = -0.0415\n",
      "EPOCH:75\n",
      "Average training loss per sample  = 0.2113597011193633\n",
      "Performance of the network in current epoch = -0.0417\n",
      "Best performance of the network yet  = -0.0415\n",
      "EPOCH:80\n",
      "Average training loss per sample  = 0.19916357658803463\n",
      "Performance of the network in current epoch = -0.0413\n",
      "Best performance of the network yet  = -0.0413\n",
      "EPOCH:85\n",
      "Average training loss per sample  = 0.20662705227732658\n",
      "Performance of the network in current epoch = -0.0411\n",
      "Best performance of the network yet  = -0.0411\n",
      "EPOCH:90\n",
      "Average training loss per sample  = 0.20240336656570435\n",
      "Performance of the network in current epoch = -0.0414\n",
      "Best performance of the network yet  = -0.0409\n",
      "EPOCH:95\n",
      "Average training loss per sample  = 0.189800881780684\n",
      "Performance of the network in current epoch = -0.0414\n",
      "Best performance of the network yet  = -0.0409\n",
      "EPOCH:98\n",
      "Training to be concluded after this epoch\n",
      "Average training loss per sample  = 0.18150440976023674\n",
      "Performance of the network in current epoch = -0.0414\n",
      "Best performance of the network yet  = -0.0409\n",
      "BEST SCORE IS:-0.04088538512587547\n"
     ]
    }
   ],
   "source": [
    "#Defining hyper parameters \n",
    "batch_size = 150\n",
    "dropout = 0\n",
    "learning_rate = 0.001\n",
    "stride=2\n",
    "\n",
    "\n",
    "#Training thenetwork\n",
    "criterion = nn.MSELoss()\n",
    "cnn2d = Network2d( K=K,\n",
    "            H=H,\n",
    "            D=D,\n",
    "            D_out=D_out,\n",
    "            dropout=dropout,\n",
    "            stride=stride).to(device)\n",
    "cnn2d.apply(weights_init_uniform_rule)\n",
    "result_dict = train_neural_network(cnn2d,\n",
    "                                   train_dataset=train_dataset,\n",
    "                                   val_dataset=val_dataset,\n",
    "                                   epochs=200,\n",
    "                                   early_stopping_rounds=10,\n",
    "                                   batch_size=batch_size,\n",
    "                                   learning_rate=learning_rate,\n",
    "                                   verbose=True,\n",
    "                                   criterion=criterion,\n",
    "                                   eval_func=neg_mean_squared_error,\n",
    "                                   device=device)    "
   ]
  },
  {
   "cell_type": "code",
   "execution_count": 7,
   "metadata": {},
   "outputs": [
    {
     "name": "stdout",
     "output_type": "stream",
     "text": [
      "(2459, 513)\n",
      "Mean Squared Error = 0.021543507320711374\n",
      "SNR = 7.398769289501005\n"
     ]
    }
   ],
   "source": [
    "S_pred = cnn2d.forward(X_dataset).detach().cpu().numpy()\n",
    "\n",
    "#Appending randomly generated normal distribution numbers to first 19 frames\n",
    "S_append= np.random.normal(loc=np.mean(S_pred),scale=np.std(S_pred),size=[19,513])\n",
    "S_append[S_append<0]=0\n",
    "S_pred = np.concatenate((S_append,S_pred),axis=0)\n",
    "print(S_pred.shape)\n",
    "\n",
    "s_pred = get_time_domain_signal(S_pred.T,X_dir,length=len(s))\n",
    "print(\"Mean Squared Error = \"+str(mean_squared_error(S.cpu().numpy(),S_pred)))\n",
    "print(\"SNR = \"+str(get_snr(s,s_pred)))"
   ]
  },
  {
   "cell_type": "code",
   "execution_count": 8,
   "metadata": {},
   "outputs": [],
   "source": [
    "librosa.output.write_wav(\"test_clean_male_pred_prob2.wav\",s_pred, sr)"
   ]
  },
  {
   "cell_type": "markdown",
   "metadata": {},
   "source": [
    "### Similarly predicting for the other 2 signals"
   ]
  },
  {
   "cell_type": "code",
   "execution_count": 10,
   "metadata": {},
   "outputs": [],
   "source": [
    "#Changing device since we are only doing forward pass\n",
    "device = \"cpu\"\n",
    "cnn2d = cnn2d.to(device)"
   ]
  },
  {
   "cell_type": "code",
   "execution_count": 12,
   "metadata": {},
   "outputs": [],
   "source": [
    "# For test signal 1\n",
    "x_test1,_ = librosa.load(\"test_x_01.wav\", sr=sr)\n",
    "X_test1_complex = stft(x_test1, n_fft=1024, hop_length=512)\n",
    "\n",
    "X_test1 = np.abs(X_test1_complex.T)\n",
    "X_test1_dir = np.divide(X_test1_complex,X_test1.T)\n",
    "\n",
    "X_test1 = torch.tensor(X_test1).to(device)\n",
    "n_test1_data = X_test1.shape[0] - (frames_to_use-1)\n",
    "\n",
    "X_test1_dataset = torch.zeros([n_test1_data,1,frames_to_use,D])\n",
    "for i in range(0,n_test1_data):\n",
    "    X_test1_dataset[i,0,:,:]=X_test1[i:i+frames_to_use,:]\n",
    "X_test1_dataset = X_test1_dataset.to(device)\n",
    "S_test1 = cnn2d.forward(X_test1_dataset).detach().cpu().numpy()\n",
    "\n",
    "#Appending randomly generated normal distribution numbers to first 19 frames\n",
    "S_test1_append= np.random.normal(loc=np.mean(S_test1),scale=np.std(S_test1),size=[19,513])\n",
    "S_test1_append[S_test1_append<0]=0\n",
    "S_test1 = np.concatenate((S_test1_append,S_test1),axis=0)\n",
    "s_test1 = get_time_domain_signal(S_test1.T,X_test1_dir,length=len(x_test1))\n",
    "librosa.output.write_wav(\"test_x_01_pred_prob2.wav\",s_test1, sr)"
   ]
  },
  {
   "cell_type": "code",
   "execution_count": 13,
   "metadata": {},
   "outputs": [],
   "source": [
    "# For test signal 1\n",
    "x_test2,_ = librosa.load(\"test_x_02.wav\", sr=sr)\n",
    "X_test2_complex = stft(x_test2, n_fft=1024, hop_length=512)\n",
    "\n",
    "X_test2 = np.abs(X_test2_complex.T)\n",
    "X_test2_dir = np.divide(X_test2_complex,X_test2.T)\n",
    "\n",
    "X_test2 = torch.tensor(X_test2).to(device)\n",
    "n_test2_data = X_test2.shape[0] - (frames_to_use-1)\n",
    "\n",
    "X_test2_dataset = torch.zeros([n_test2_data,1,frames_to_use,D])\n",
    "for i in range(0,n_test2_data):\n",
    "    X_test2_dataset[i,0,:,:]=X_test2[i:i+frames_to_use,:]\n",
    "X_test2_dataset = X_test2_dataset.to(device)\n",
    "S_test2 = cnn2d.forward(X_test2_dataset).detach().cpu().numpy()\n",
    "\n",
    "#Appending randomly generated normal distribution numbers to first 19 frames\n",
    "S_test2_append= np.random.normal(loc=np.mean(S_test2),scale=np.std(S_test2),size=[19,513])\n",
    "S_test2_append[S_test2_append<0]=0\n",
    "S_test2 = np.concatenate((S_test2_append,S_test2),axis=0)\n",
    "s_test2 = get_time_domain_signal(S_test2.T,X_test2_dir,length=len(x_test2))\n",
    "librosa.output.write_wav(\"test_x_02_pred_prob2.wav\",s_test2, sr)"
   ]
  },
  {
   "cell_type": "code",
   "execution_count": null,
   "metadata": {},
   "outputs": [],
   "source": []
  }
 ],
 "metadata": {
  "kernelspec": {
   "display_name": "Python 3",
   "language": "python",
   "name": "python3"
  },
  "language_info": {
   "codemirror_mode": {
    "name": "ipython",
    "version": 3
   },
   "file_extension": ".py",
   "mimetype": "text/x-python",
   "name": "python",
   "nbconvert_exporter": "python",
   "pygments_lexer": "ipython3",
   "version": "3.6.9"
  }
 },
 "nbformat": 4,
 "nbformat_minor": 2
}
