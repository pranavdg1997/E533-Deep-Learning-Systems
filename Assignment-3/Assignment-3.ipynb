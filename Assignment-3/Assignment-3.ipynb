{
 "cells": [
  {
   "cell_type": "code",
   "execution_count": 1,
   "metadata": {
    "ExecuteTime": {
     "end_time": "2019-11-11T05:58:02.437541Z",
     "start_time": "2019-11-11T05:57:54.014031Z"
    }
   },
   "outputs": [
    {
     "name": "stdout",
     "output_type": "stream",
     "text": [
      "GeForce GTX 1050\n"
     ]
    }
   ],
   "source": [
    "#importing basic libraries\n",
    "import numpy as np\n",
    "import pandas as pd\n",
    "import matplotlib.pyplot as plt\n",
    "import seaborn as sns\n",
    "import os\n",
    "import warnings\n",
    "from sklearn.metrics import *\n",
    "warnings.filterwarnings('ignore')\n",
    "%matplotlib inline\n",
    "\n",
    "#Importing pytorch functions and modules\n",
    "import torch\n",
    "device = torch.device(\"cuda:0\" if torch.cuda.is_available() else \"cpu\")\n",
    "print(torch.cuda.get_device_name(0))\n",
    "import torch.nn as nn\n",
    "import torch.nn.functional as F\n",
    "from torch.autograd import Variable\n",
    "from torch import optim\n",
    "import torchvision\n",
    "import torchvision.datasets as datasets\n",
    "from torchvision import transforms\n",
    "\n",
    "import librosa\n",
    "from librosa.core import stft,istft\n",
    "\n",
    "#Setting random seed for reproducibility\n",
    "SEED = 1234\n",
    "torch.manual_seed(SEED)\n",
    "np.random.seed(SEED)\n",
    "torch.backends.cudnn.deterministic = True\n",
    "torch.backends.cudnn.benchmark = False"
   ]
  },
  {
   "cell_type": "code",
   "execution_count": 2,
   "metadata": {
    "ExecuteTime": {
     "end_time": "2019-11-11T05:24:15.500049Z",
     "start_time": "2019-11-11T05:24:15.493494Z"
    }
   },
   "outputs": [],
   "source": [
    "# Fixed variables\n",
    "epochs = 200               #maximum epochs of training\n",
    "input_dm1 = 28             #Length of image\n",
    "input_dm2 = 28             #Breadth of image\n",
    "output_dm = 10             #Output dimension\n",
    "early_stopping_rounds = 10  #Epochs after which training should stop if there is no increase in performance"
   ]
  },
  {
   "cell_type": "code",
   "execution_count": 3,
   "metadata": {
    "ExecuteTime": {
     "end_time": "2019-11-11T05:24:28.651475Z",
     "start_time": "2019-11-11T05:24:15.503726Z"
    }
   },
   "outputs": [
    {
     "name": "stderr",
     "output_type": "stream",
     "text": [
      "  0%|          | 0/9912422 [00:00<?, ?it/s]"
     ]
    },
    {
     "name": "stdout",
     "output_type": "stream",
     "text": [
      "Downloading http://yann.lecun.com/exdb/mnist/train-images-idx3-ubyte.gz to ./data/MNIST/raw/train-images-idx3-ubyte.gz\n"
     ]
    },
    {
     "name": "stderr",
     "output_type": "stream",
     "text": [
      "9920512it [00:09, 1028865.50it/s]                             \n"
     ]
    },
    {
     "name": "stdout",
     "output_type": "stream",
     "text": [
      "Extracting ./data/MNIST/raw/train-images-idx3-ubyte.gz to ./data/MNIST/raw\n"
     ]
    },
    {
     "name": "stderr",
     "output_type": "stream",
     "text": [
      "32768it [00:00, 288765.81it/s]                           \n",
      "0it [00:00, ?it/s]"
     ]
    },
    {
     "name": "stdout",
     "output_type": "stream",
     "text": [
      "Downloading http://yann.lecun.com/exdb/mnist/train-labels-idx1-ubyte.gz to ./data/MNIST/raw/train-labels-idx1-ubyte.gz\n",
      "Extracting ./data/MNIST/raw/train-labels-idx1-ubyte.gz to ./data/MNIST/raw\n",
      "Downloading http://yann.lecun.com/exdb/mnist/t10k-images-idx3-ubyte.gz to ./data/MNIST/raw/t10k-images-idx3-ubyte.gz\n"
     ]
    },
    {
     "name": "stderr",
     "output_type": "stream",
     "text": [
      "1654784it [00:02, 589186.96it/s]                              \n",
      "8192it [00:00, 119742.04it/s]\n"
     ]
    },
    {
     "name": "stdout",
     "output_type": "stream",
     "text": [
      "Extracting ./data/MNIST/raw/t10k-images-idx3-ubyte.gz to ./data/MNIST/raw\n",
      "Downloading http://yann.lecun.com/exdb/mnist/t10k-labels-idx1-ubyte.gz to ./data/MNIST/raw/t10k-labels-idx1-ubyte.gz\n",
      "Extracting ./data/MNIST/raw/t10k-labels-idx1-ubyte.gz to ./data/MNIST/raw\n",
      "Processing...\n",
      "Done!\n"
     ]
    }
   ],
   "source": [
    "#initializing transformer to convert values to tensor and normalize image matrices\n",
    "trans = transforms.Compose([\n",
    "transforms.ToTensor(),\n",
    "transforms.Normalize((0.1307,), (0.3081,))\n",
    "])\n",
    "\n",
    "#Loading datasets\n",
    "mnist_train = datasets.MNIST(root='./data', train=True, download=True, transform=trans)\n",
    "mnist_test = datasets.MNIST(root='./data', train=False, download=True, transform=trans)\n",
    "\n",
    "#Reading number of samples in each set\n",
    "n_train = len(mnist_train)\n",
    "n_test = len(mnist_test)\n",
    "\n",
    "# # Data loader\n",
    "# train_loader = torch.utils.data.DataLoader(dataset=mnist_train, \n",
    "#                                            batch_size=batch_size, \n",
    "#                                            shuffle=True)\n",
    "\n",
    "# test_loader = torch.utils.data.DataLoader(dataset=mnist_test, \n",
    "#                                            batch_size=mnist_test.data.shape[0], \n",
    "#                                            shuffle=True)"
   ]
  },
  {
   "cell_type": "code",
   "execution_count": 4,
   "metadata": {
    "ExecuteTime": {
     "end_time": "2019-11-09T22:49:39.599002Z",
     "start_time": "2019-11-09T22:49:39.567917Z"
    }
   },
   "outputs": [],
   "source": [
    "from helper_file import Linear_Network,train_neural_network,weights_init_uniform_rule"
   ]
  },
  {
   "cell_type": "code",
   "execution_count": 5,
   "metadata": {
    "ExecuteTime": {
     "end_time": "2019-11-09T22:49:54.996643Z",
     "start_time": "2019-11-09T22:49:39.601691Z"
    }
   },
   "outputs": [],
   "source": [
    "\n",
    "from sklearn.metrics import accuracy_score\n",
    "\n",
    "#Defining hyper parameters \n",
    "batch_size = 7000\n",
    "dropout = 0.2\n",
    "learning_rate = 0.001\n",
    "\n",
    "#Defining model object and applying initialization\n",
    "my_model = Linear_Network(input_dm1=input_dm1,input_dm2=input_dm2,dropout=dropout).to(device)"
   ]
  },
  {
   "cell_type": "code",
   "execution_count": 6,
   "metadata": {
    "ExecuteTime": {
     "end_time": "2019-11-09T22:50:53.834108Z",
     "start_time": "2019-11-09T22:49:54.998748Z"
    },
    "scrolled": true
   },
   "outputs": [
    {
     "name": "stdout",
     "output_type": "stream",
     "text": [
      "Pre-trained model found, to train from scratch set 'saved_model' to None\n",
      "EPOCH:3\n",
      "Training to be concluded after this epoch\n",
      "Average training loss per sample  = tensor(1.4744)\n",
      "Performance of the network in current epoch = 0.98\n",
      "Best performance of the network yet  = 0.98\n",
      "BEST SCORE IS:0.98\n"
     ]
    },
    {
     "data": {
      "image/png": "[encoded data removed]",
      "text/plain": [
       "<Figure size 432x288 with 1 Axes>"
      ]
     },
     "metadata": {
      "needs_background": "light"
     },
     "output_type": "display_data"
    }
   ],
   "source": [
    "#Carrying out trainingz\n",
    "result_dict = train_neural_network(model=my_model,\n",
    "               train_dataset=mnist_train,\n",
    "               val_dataset=mnist_test,\n",
    "               epochs=epochs,\n",
    "               early_stopping_rounds=early_stopping_rounds,\n",
    "               batch_size=batch_size,\n",
    "               learning_rate=learning_rate,\n",
    "               verbose=True,\n",
    "               eval_func=accuracy_score,\n",
    "               input_dm1=input_dm1,\n",
    "               input_dm2=input_dm2,\n",
    "               criterion=nn.CrossEntropyLoss(),\n",
    "               saved_model = \"saved_model.pt\",\n",
    "               tol=3,\n",
    "               device=device)\n",
    "\n",
    "train_loader = result_dict[\"train_loader\"] \n",
    "val_images = result_dict[\"val_images\"] \n",
    "val_labels = result_dict[\"val_labels\"]\n",
    "best_model = result_dict[\"best_model\"] \n",
    "val_labels_pred = result_dict[\"val_labels_pred\"] "
   ]
  },
  {
   "cell_type": "code",
   "execution_count": 7,
   "metadata": {
    "ExecuteTime": {
     "end_time": "2019-11-09T22:50:53.855544Z",
     "start_time": "2019-11-09T22:50:53.839635Z"
    }
   },
   "outputs": [],
   "source": [
    "d_values = [10,20,50,100,200,1024]\n",
    "val_images_reshaped = val_images.reshape(-1, input_dm1*input_dm2).to(device)"
   ]
  },
  {
   "cell_type": "code",
   "execution_count": 8,
   "metadata": {
    "ExecuteTime": {
     "end_time": "2019-11-09T22:50:53.871996Z",
     "start_time": "2019-11-09T22:50:53.860994Z"
    }
   },
   "outputs": [],
   "source": [
    "def compress(W,D):\n",
    "    (U, s, V) = torch.svd(W)\n",
    "    W_d = torch.mm(torch.mm(U[:,0:D],torch.diag(s)[0:D,0:D]),V[:,0:D].T)\n",
    "    assert(W.shape==W_d.shape)\n",
    "    return(W_d)"
   ]
  },
  {
   "cell_type": "code",
   "execution_count": 9,
   "metadata": {
    "ExecuteTime": {
     "end_time": "2019-11-09T22:51:15.582592Z",
     "start_time": "2019-11-09T22:50:53.885855Z"
    }
   },
   "outputs": [
    {
     "data": {
      "text/html": [
       "<div>\n",
       "<style scoped>\n",
       "    .dataframe tbody tr th:only-of-type {\n",
       "        vertical-align: middle;\n",
       "    }\n",
       "\n",
       "    .dataframe tbody tr th {\n",
       "        vertical-align: top;\n",
       "    }\n",
       "\n",
       "    .dataframe thead th {\n",
       "        text-align: right;\n",
       "    }\n",
       "</style>\n",
       "<table border=\"1\" class=\"dataframe\">\n",
       "  <thead>\n",
       "    <tr style=\"text-align: right;\">\n",
       "      <th></th>\n",
       "      <th>D</th>\n",
       "      <th>test_accuracy</th>\n",
       "    </tr>\n",
       "  </thead>\n",
       "  <tbody>\n",
       "    <tr>\n",
       "      <th>0</th>\n",
       "      <td>10.0</td>\n",
       "      <td>0.795</td>\n",
       "    </tr>\n",
       "    <tr>\n",
       "      <th>1</th>\n",
       "      <td>20.0</td>\n",
       "      <td>0.960</td>\n",
       "    </tr>\n",
       "    <tr>\n",
       "      <th>2</th>\n",
       "      <td>50.0</td>\n",
       "      <td>0.978</td>\n",
       "    </tr>\n",
       "    <tr>\n",
       "      <th>3</th>\n",
       "      <td>100.0</td>\n",
       "      <td>0.978</td>\n",
       "    </tr>\n",
       "    <tr>\n",
       "      <th>4</th>\n",
       "      <td>200.0</td>\n",
       "      <td>0.978</td>\n",
       "    </tr>\n",
       "    <tr>\n",
       "      <th>5</th>\n",
       "      <td>1024.0</td>\n",
       "      <td>0.978</td>\n",
       "    </tr>\n",
       "  </tbody>\n",
       "</table>\n",
       "</div>"
      ],
      "text/plain": [
       "        D  test_accuracy\n",
       "0    10.0          0.795\n",
       "1    20.0          0.960\n",
       "2    50.0          0.978\n",
       "3   100.0          0.978\n",
       "4   200.0          0.978\n",
       "5  1024.0          0.978"
      ]
     },
     "execution_count": 9,
     "metadata": {},
     "output_type": "execute_result"
    }
   ],
   "source": [
    "results = pd.DataFrame()\n",
    "for D in d_values:\n",
    "    new_model = Linear_Network(input_dm1=input_dm1,input_dm2=input_dm2,dropout=dropout).to(device)\n",
    "    \n",
    "    #Making sure that apart from the weights we are modifying, all other parameters have the same value\n",
    "    new_model.load_state_dict(my_model.state_dict())\n",
    "    \n",
    "    w = new_model.input_layer.weight.data\n",
    "    new_model.input_layer.weight.data = compress(w,min(w.shape[0],w.shape[0],D))\n",
    "    new_model.hidden_layer_1.weight.data = compress(new_model.hidden_layer_1.weight.data,D)\n",
    "    new_model.hidden_layer_2.weight.data = compress(new_model.hidden_layer_2.weight.data,D)\n",
    "    new_model.hidden_layer_3.weight.data = compress(new_model.hidden_layer_3.weight.data,D)\n",
    "    new_model.hidden_layer_4.weight.data = compress(new_model.hidden_layer_4.weight.data,D)\n",
    "    new_model.hidden_layer_5.weight.data = compress(new_model.hidden_layer_5.weight.data,D)\n",
    "    \n",
    "    \n",
    "    val_labels_pred = new_model.forward(val_images_reshaped).argmax(1).cpu().numpy()\n",
    "    test_accuracy = accuracy_score(val_labels.numpy(),val_labels_pred)\n",
    "    results = results.append({\"D\":D,\"test_accuracy\":round(test_accuracy,3)},ignore_index=True)\n",
    "results"
   ]
  },
  {
   "cell_type": "code",
   "execution_count": 10,
   "metadata": {
    "ExecuteTime": {
     "end_time": "2019-11-09T22:51:16.355179Z",
     "start_time": "2019-11-09T22:51:15.590260Z"
    }
   },
   "outputs": [
    {
     "data": {
      "text/plain": [
       "<matplotlib.axes._subplots.AxesSubplot at 0x7f2d7003aef0>"
      ]
     },
     "execution_count": 10,
     "metadata": {},
     "output_type": "execute_result"
    },
    {
     "data": {
      "image/png": "[encoded data removed]",
      "text/plain": [
       "<Figure size 432x288 with 1 Axes>"
      ]
     },
     "metadata": {
      "needs_background": "light"
     },
     "output_type": "display_data"
    }
   ],
   "source": [
    "plt.figure()\n",
    "sns.lineplot(x=\"D\",y=\"test_accuracy\",data=results)"
   ]
  },
  {
   "cell_type": "markdown",
   "metadata": {},
   "source": [
    "if x1 and x2 represent activations of two consecutive linear layers in a NN,\n",
    "x2 = f(W * x1 + b) where W,b and f are the weight, bias and activation function respectively\n",
    "If we are to replace W with a lower dimensional U and V respectively where weights of both are learned simultaneously, we will essential replace one layer with two layers  so that xm is the intermediary activation. \n",
    "\n",
    "Now, we have\n",
    "x2 = f2(V * x_m + b2)\n",
    "x_m = f1(U * x1 + b1)\n",
    "\n",
    "The only modification is that f1 is identity function and b1 will be 0 and constant"
   ]
  },
  {
   "cell_type": "code",
   "execution_count": 22,
   "metadata": {
    "ExecuteTime": {
     "end_time": "2019-11-09T22:54:44.566816Z",
     "start_time": "2019-11-09T22:54:44.561867Z"
    }
   },
   "outputs": [],
   "source": [
    "def compress_U(W,D):\n",
    "    (U, s, V) = torch.svd(W)\n",
    "    U_D = U[:,0:D]\n",
    "    U_D.required_grad = True\n",
    "    return(U_D)\n",
    "\n",
    "def compress_V_T(W,D):\n",
    "    (U, s, V) = torch.svd(W)\n",
    "    V_D = V[:,0:D].T\n",
    "    V_D.required_grad = True\n",
    "    return(V_D)"
   ]
  },
  {
   "cell_type": "code",
   "execution_count": 31,
   "metadata": {
    "ExecuteTime": {
     "end_time": "2019-11-09T22:55:09.011499Z",
     "start_time": "2019-11-09T22:55:08.998183Z"
    }
   },
   "outputs": [],
   "source": [
    "class Custom_Linear_Network(nn.Module):\n",
    "    def __init__(self,input_dm1,input_dm2,D,original_model,dropout=0):\n",
    "        super(Custom_Linear_Network,self).__init__()\n",
    "        \n",
    "        #instead of self.input_layer = nn.Linear(784,1024)\n",
    "        self.v_inp = nn.Linear(input_dm1*input_dm2, D,bias=False)\n",
    "        self.u_inp = nn.Linear(D,1024)\n",
    "        #initializing U and V based on SVD\n",
    "        self.v_inp.weight.data = compress_V_T(original_model.input_layer.weight.data,D)\n",
    "        self.u_inp.weight.data = compress_U(original_model.input_layer.weight.data,D)\n",
    "        \n",
    "        \n",
    "        \n",
    "        \n",
    "        \n",
    "        self.v1 = nn.Linear(1024,D,bias=False)  \n",
    "        self.u1 = nn.Linear(D, 1024)\n",
    "        #initializing U and V based on SVD\n",
    "        self.v1.weight.data = compress_V_T(original_model.hidden_layer_1.weight.data,D)\n",
    "        self.u1.weight.data = compress_U(original_model.hidden_layer_1.weight.data,D)\n",
    "        \n",
    "        \n",
    "        self.v2 = nn.Linear(1024,D,bias=False)  \n",
    "        self.u2 = nn.Linear(D, 1024)\n",
    "        #initializing U and V based on SVD\n",
    "        self.v2.weight.data = compress_V_T(original_model.hidden_layer_2.weight.data,D)\n",
    "        self.u2.weight.data = compress_U(original_model.hidden_layer_2.weight.data,D)\n",
    "        \n",
    "        self.v3 = nn.Linear(1024,D,bias=False)  \n",
    "        self.u3 = nn.Linear(D, 1024)\n",
    "        #initializing U and V based on SVD\n",
    "        self.v3.weight.data = compress_V_T(original_model.hidden_layer_3.weight.data,D)\n",
    "        self.u3.weight.data = compress_U(original_model.hidden_layer_3.weight.data,D)\n",
    "        \n",
    "        \n",
    "        self.v4 = nn.Linear(1024,D,bias=False)  \n",
    "        self.u4 = nn.Linear(D, 1024)\n",
    "        #initializing U and V based on SVD\n",
    "        self.v4.weight.data = compress_V_T(original_model.hidden_layer_4.weight.data,D)\n",
    "        self.u4.weight.data = compress_U(original_model.hidden_layer_4.weight.data,D)\n",
    "        \n",
    "        self.v5 = nn.Linear(1024,D,bias=False)  \n",
    "        self.u5 = nn.Linear(D, 1024)\n",
    "        #initializing U and V based on SVD\n",
    "        self.v5.weight.data = compress_V_T(original_model.hidden_layer_5.weight.data,D)\n",
    "        self.u5.weight.data = compress_U(original_model.hidden_layer_5.weight.data,D)\n",
    "        \n",
    "        self.output_layer = nn.Linear(1024, 10)\n",
    "        self.dd = nn.Dropout(dropout)\n",
    "\n",
    "        \n",
    "    def forward(self, x):\n",
    "        \n",
    "        x = self.v_inp(x)\n",
    "        x = self.u_inp(x)\n",
    "        x = F.relu(x)\n",
    "        x = self.dd(x)\n",
    "        \n",
    "        #5 hidden layers\n",
    "        x = self.v1(x)\n",
    "        x = self.u1(x)\n",
    "        x = F.relu(x)\n",
    "        x = self.dd(x)\n",
    "        x = self.v2(x)\n",
    "        x = self.u2(x)\n",
    "        x = F.relu(x)\n",
    "        x = self.dd(x)\n",
    "        x = self.v3(x)\n",
    "        x = self.u3(x)\n",
    "        x = F.relu(x)\n",
    "        x = self.dd(x)\n",
    "        x = self.v4(x)\n",
    "        x = self.u4(x)\n",
    "        x = F.relu(x)\n",
    "        x = self.dd(x)\n",
    "        x = self.v5(x)\n",
    "        x = self.u5(x)\n",
    "        x = F.relu(x)\n",
    "        x = self.dd(x)\n",
    "        \n",
    "        \n",
    "        \n",
    "     \n",
    "        x = self.output_layer(x)\n",
    "        x = F.softmax(x, dim=1)\n",
    "        \n",
    "        return x"
   ]
  },
  {
   "cell_type": "code",
   "execution_count": 32,
   "metadata": {
    "ExecuteTime": {
     "end_time": "2019-11-09T22:55:14.997527Z",
     "start_time": "2019-11-09T22:55:09.812429Z"
    }
   },
   "outputs": [],
   "source": [
    "compressed_model = Custom_Linear_Network(input_dm1 = 28,\n",
    "                           input_dm2 = 28,\n",
    "                           D = 20,\n",
    "                           original_model = my_model,\n",
    "                           dropout = 0.2).to(device)\n"
   ]
  },
  {
   "cell_type": "code",
   "execution_count": 33,
   "metadata": {
    "ExecuteTime": {
     "end_time": "2019-11-09T23:05:33.159040Z",
     "start_time": "2019-11-09T22:55:29.775719Z"
    },
    "scrolled": true
   },
   "outputs": [
    {
     "name": "stdout",
     "output_type": "stream",
     "text": [
      "EPOCH:5\n",
      "Average training loss per sample  = tensor(1.8647)\n",
      "Performance of the network in current epoch = 0.65\n",
      "Best performance of the network yet  = 0.65\n",
      "EPOCH:10\n",
      "Average training loss per sample  = tensor(1.6764)\n",
      "Performance of the network in current epoch = 0.78\n",
      "Best performance of the network yet  = 0.78\n",
      "EPOCH:15\n",
      "Average training loss per sample  = tensor(1.6447)\n",
      "Performance of the network in current epoch = 0.85\n",
      "Best performance of the network yet  = 0.85\n",
      "EPOCH:20\n",
      "Average training loss per sample  = tensor(1.4947)\n",
      "Performance of the network in current epoch = 0.96\n",
      "Best performance of the network yet  = 0.96\n",
      "EPOCH:25\n",
      "Average training loss per sample  = tensor(1.4888)\n",
      "Performance of the network in current epoch = 0.96\n",
      "Best performance of the network yet  = 0.97\n",
      "EPOCH:30\n",
      "Average training loss per sample  = tensor(1.4846)\n",
      "Performance of the network in current epoch = 0.97\n",
      "Best performance of the network yet  = 0.97\n",
      "EPOCH:35\n",
      "Average training loss per sample  = tensor(1.4810)\n",
      "Performance of the network in current epoch = 0.97\n",
      "Best performance of the network yet  = 0.97\n",
      "EPOCH:40\n",
      "Average training loss per sample  = tensor(1.4816)\n",
      "Performance of the network in current epoch = 0.97\n",
      "Best performance of the network yet  = 0.97\n",
      "EPOCH:45\n",
      "Average training loss per sample  = tensor(1.4784)\n",
      "Performance of the network in current epoch = 0.97\n",
      "Best performance of the network yet  = 0.97\n",
      "EPOCH:49\n",
      "Training to be concluded after this epoch\n",
      "Average training loss per sample  = tensor(1.4811)\n",
      "Performance of the network in current epoch = 0.97\n",
      "Best performance of the network yet  = 0.97\n",
      "BEST SCORE IS:0.97\n"
     ]
    },
    {
     "data": {
      "image/png": "[encoded data removed]",
      "text/plain": [
       "<Figure size 432x288 with 1 Axes>"
      ]
     },
     "metadata": {
      "needs_background": "light"
     },
     "output_type": "display_data"
    }
   ],
   "source": [
    "result_dict_compressed = train_neural_network(model=compressed_model,\n",
    "               train_dataset=mnist_train,\n",
    "               val_dataset=mnist_test,\n",
    "               epochs=epochs,\n",
    "               early_stopping_rounds=early_stopping_rounds,\n",
    "               batch_size=batch_size,\n",
    "               learning_rate=learning_rate,\n",
    "               verbose=True,\n",
    "               eval_func=accuracy_score,\n",
    "               input_dm1=input_dm1,\n",
    "               input_dm2=input_dm2,\n",
    "               criterion=nn.CrossEntropyLoss(),\n",
    "               tol=3,\n",
    "               saved_model=None,\n",
    "               device=device)"
   ]
  },
  {
   "cell_type": "code",
   "execution_count": 34,
   "metadata": {
    "ExecuteTime": {
     "end_time": "2019-11-09T23:27:07.795936Z",
     "start_time": "2019-11-09T23:27:07.785047Z"
    }
   },
   "outputs": [
    {
     "name": "stdout",
     "output_type": "stream",
     "text": [
      "For original network, forward pass time per sample = 3.590583801269531e-07\n",
      "For compressed network, forward pass time per sample = 2.902984619140625e-07\n"
     ]
    }
   ],
   "source": [
    "#Comparison of forward pass time of both the networks\n",
    "import time\n",
    "t1 = time.time()\n",
    "p1 = my_model.forward(val_images_reshaped)\n",
    "t2 = time.time()\n",
    "print(\"For original network, forward pass time per sample = \"+str((t2-t1)/val_images_reshaped.shape[0]))\n",
    "t3 = time.time()\n",
    "p1 = compressed_model.forward(val_images_reshaped)\n",
    "t4 = time.time()\n",
    "print(\"For compressed network, forward pass time per sample = \"+str((t4-t3)/val_images_reshaped.shape[0]))"
   ]
  },
  {
   "cell_type": "code",
   "execution_count": 3,
   "metadata": {
    "ExecuteTime": {
     "end_time": "2019-11-11T05:59:01.118456Z",
     "start_time": "2019-11-11T05:59:01.115078Z"
    }
   },
   "outputs": [],
   "source": [
    "train_dataset = np.arange(0,1200)\n",
    "train_loader = torch.utils.data.DataLoader(dataset=train_dataset, \n",
    "                                             batch_size=100, \n",
    "                                             shuffle=True)"
   ]
  },
  {
   "cell_type": "code",
   "execution_count": 5,
   "metadata": {
    "ExecuteTime": {
     "end_time": "2019-11-11T05:59:38.629637Z",
     "start_time": "2019-11-11T05:59:38.621354Z"
    }
   },
   "outputs": [
    {
     "name": "stdout",
     "output_type": "stream",
     "text": [
      "torch.Size([100])\n",
      "torch.Size([100])\n",
      "torch.Size([100])\n",
      "torch.Size([100])\n",
      "torch.Size([100])\n",
      "torch.Size([100])\n",
      "torch.Size([100])\n",
      "torch.Size([100])\n",
      "torch.Size([100])\n",
      "torch.Size([100])\n",
      "torch.Size([100])\n",
      "torch.Size([100])\n"
     ]
    }
   ],
   "source": [
    "for batch in train_loader:\n",
    "    print(batch.shape)"
   ]
  },
  {
   "cell_type": "code",
   "execution_count": 6,
   "metadata": {
    "ExecuteTime": {
     "end_time": "2019-11-11T05:59:47.233862Z",
     "start_time": "2019-11-11T05:59:47.066707Z"
    }
   },
   "outputs": [
    {
     "data": {
      "text/plain": [
       "tensor([ 201,   52,  144,  337, 1152,   31,  526, 1153,  834,  244,  633,  165,\n",
       "         898, 1145, 1175,  979,  331,  450,  668, 1174,  113,  957,   43,  961,\n",
       "         324,  249,  530,  682, 1034,  339,  441,  944,  378,  470,  722,  139,\n",
       "        1099,  952, 1162,  559, 1143,  601,  548,  589,  438,  308,  616,  740,\n",
       "         254,  359,  918, 1194,  896,    4,  215,  718,  876,  360, 1131,  746,\n",
       "         873,  326, 1112,  647,  299,  465,  764, 1005,   81,  561, 1196,  704,\n",
       "         800,  680,    3,  380,  995,  936, 1072,  778,  627,  603,  128,  502,\n",
       "         187,  368,  546,   22, 1134,  990,  118,  615,    0, 1182,  631,  735,\n",
       "        1119,  628,  969,  847])"
      ]
     },
     "execution_count": 6,
     "metadata": {},
     "output_type": "execute_result"
    }
   ],
   "source": [
    "batch"
   ]
  },
  {
   "cell_type": "markdown",
   "metadata": {},
   "source": [
    "# Problem 2"
   ]
  },
  {
   "cell_type": "code",
   "execution_count": null,
   "metadata": {
    "ExecuteTime": {
     "start_time": "2019-11-11T05:28:13.175Z"
    }
   },
   "outputs": [],
   "source": [
    "n_batch = 1200\n",
    "max_len = 180\n",
    "input_dm = 513\n",
    "\n",
    "nos = np.arange(0,n_signals).astype(np.str)\n",
    "l_max = 0\n",
    "if((\"S_complex.npy\" in os.listdir())&(\"seq_lengths.npy\" in os.listdir())):\n",
    "    S_complex = np.load(\"S_complex.npy\")\n",
    "    seq_lengths = np.load(\"seq_lengths.npy\").astype(np.int)\n",
    "else:\n",
    "    S_complex = np.zeros((n_signals,input_dm,max_len)).astype(np.complex64)\n",
    "    seq_lengths = np.zeros((n_signals)).astype(np.int)\n",
    "    for i,no in enumerate(nos):\n",
    "        filename = \"tr/trs\" + no.zfill(4) + \".wav\"\n",
    "        s, sr=librosa.load(filename, sr=None)\n",
    "        s_complex = stft(s, n_fft=1024, hop_length=512)\n",
    "        seq_lengths[i] = int(s_complex.shape[1])\n",
    "        S_complex[i,:,0:seq_lengths[i]] = s_complex\n",
    "    \n",
    "\n",
    "    len_sort_ind = np.flip(np.argsort(seq_lengths))\n",
    "    \n",
    "    #sort S by decreasing order of length\n",
    "    S_complex = S_complex[len_sort_ind]\n",
    "    seq_lengths = seq_lengths[len_sort_ind]\n",
    "    np.save(\"S_complex.npy\",S_complex)\n",
    "    np.save(\"seq_lengths.npy\",S_complex)\n",
    "\n",
    "S = np.abs(S_complex)\n",
    "S_cap = np.nan_to_num(np.divide(S_complex,S))\n",
    "\n",
    "print(seq_lengths.shape)"
   ]
  },
  {
   "cell_type": "code",
   "execution_count": null,
   "metadata": {
    "ExecuteTime": {
     "start_time": "2019-11-11T05:28:15.684Z"
    }
   },
   "outputs": [],
   "source": [
    "if(\"X_complex.npy\" in os.listdir()):\n",
    "    X_complex = np.load(\"X_complex.npy\")\n",
    "else:\n",
    "    X_complex = np.zeros((n_signals,input_dm,max_len)).astype(np.complex64)\n",
    "    for i,no in enumerate(nos):\n",
    "        filename = \"tr/trs\" + no.zfill(4) + \".wav\"\n",
    "        x, sr=librosa.load(filename, sr=None)\n",
    "        x_complex = stft(x, n_fft=1024, hop_length=512)\n",
    "        l = x_complex.shape[1]\n",
    "        X_complex[i,:,0:l] = x_complex\n",
    "    \n",
    "    X_complex = X_complex[len_sort_ind]\n",
    "    np.save(\"X_complex.npy\",X_complex)\n",
    "\n",
    "X = np.abs(X_complex)\n",
    "X_cap = np.nan_to_num(np.divide(X_complex,X))"
   ]
  },
  {
   "cell_type": "code",
   "execution_count": null,
   "metadata": {
    "ExecuteTime": {
     "start_time": "2019-11-11T05:28:17.583Z"
    }
   },
   "outputs": [],
   "source": [
    "if(\"N_complex.npy\" in os.listdir()):\n",
    "    N_complex = np.load(\"N_complex.npy\")\n",
    "else:\n",
    "    N_complex = np.zeros((n_signals,input_dm,max_len)).astype(np.complex64)\n",
    "    for i,no in enumerate(nos):\n",
    "        filename = \"tr/trn\" + no.zfill(4) + \".wav\"\n",
    "        n, sr=librosa.load(filename, sr=None)\n",
    "        n_complex = stft(n, n_fft=1024, hop_length=512)\n",
    "        l = n_complex.shape[1]\n",
    "        N_complex[i,:,0:l] = n_complex\n",
    "    \n",
    "    N_complex = N_complex[len_sort_ind]    \n",
    "    np.save(\"N_complex.npy\",N_complex)\n",
    "\n",
    "N = np.abs(N_complex)"
   ]
  },
  {
   "cell_type": "code",
   "execution_count": 139,
   "metadata": {
    "ExecuteTime": {
     "end_time": "2019-11-11T03:59:53.082058Z",
     "start_time": "2019-11-11T03:59:52.840117Z"
    }
   },
   "outputs": [],
   "source": [
    "\n",
    "\n",
    "\n",
    "M = np.greater(S,N).astype(np.float64)\n",
    "seq_lengths = torch.tensor(seq_lengths).to(device)\n",
    "X = torch.tensor(X.reshape((n_signals,max_len,input_dm))).to(device)\n",
    "S = torch.tensor(S.reshape((n_signals,max_len,input_dm))).to(device)\n",
    "N = torch.tensor(N.reshape((n_signals,max_len,input_dm))).to(device)\n",
    "M = torch.tensor(M.reshape((n_signals,max_len,input_dm))).to(device)"
   ]
  },
  {
   "cell_type": "code",
   "execution_count": 59,
   "metadata": {
    "ExecuteTime": {
     "end_time": "2019-11-11T02:21:16.673645Z",
     "start_time": "2019-11-11T02:21:16.667398Z"
    }
   },
   "outputs": [],
   "source": [
    "X_packed = nn.utils.rnn.pack_padded_sequence(X,seq_lengths, batch_first=True)"
   ]
  },
  {
   "cell_type": "code",
   "execution_count": 60,
   "metadata": {
    "ExecuteTime": {
     "end_time": "2019-11-11T02:21:16.985483Z",
     "start_time": "2019-11-11T02:21:16.935657Z"
    }
   },
   "outputs": [],
   "source": [
    "lstm = nn.LSTM(\n",
    "            input_size=input_dm,\n",
    "            hidden_size=513,\n",
    "            num_layers=1,\n",
    "            batch_first=True,\n",
    "            dropout = 0.2,\n",
    "            bidirectional=True\n",
    "        ).to(device)"
   ]
  },
  {
   "cell_type": "code",
   "execution_count": 61,
   "metadata": {
    "ExecuteTime": {
     "end_time": "2019-11-11T02:21:17.245284Z",
     "start_time": "2019-11-11T02:21:17.224865Z"
    }
   },
   "outputs": [
    {
     "data": {
      "text/plain": [
       "torch.Size([100, 139, 1026])"
      ]
     },
     "execution_count": 61,
     "metadata": {},
     "output_type": "execute_result"
    }
   ],
   "source": [
    "X_packed, (hidden, cell) = lstm(X_packed)\n",
    "X_out,_ = nn.utils.rnn.pad_packed_sequence(X_packed, batch_first=True, padding_value=0.0, total_length=None)\n",
    "X_out.shape"
   ]
  },
  {
   "cell_type": "code",
   "execution_count": 62,
   "metadata": {
    "ExecuteTime": {
     "end_time": "2019-11-11T02:21:17.613934Z",
     "start_time": "2019-11-11T02:21:17.606038Z"
    }
   },
   "outputs": [],
   "source": [
    "X_out = X_out.reshape(X_out.shape[0],X_out.shape[1],2,513)"
   ]
  },
  {
   "cell_type": "code",
   "execution_count": 63,
   "metadata": {
    "ExecuteTime": {
     "end_time": "2019-11-11T02:21:18.645593Z",
     "start_time": "2019-11-11T02:21:18.643076Z"
    }
   },
   "outputs": [],
   "source": [
    "X_out = X_out[:,:,0,:]"
   ]
  },
  {
   "cell_type": "code",
   "execution_count": 64,
   "metadata": {
    "ExecuteTime": {
     "end_time": "2019-11-11T02:21:19.818225Z",
     "start_time": "2019-11-11T02:21:19.814980Z"
    }
   },
   "outputs": [
    {
     "data": {
      "text/plain": [
       "torch.Size([100, 139, 513])"
      ]
     },
     "execution_count": 64,
     "metadata": {},
     "output_type": "execute_result"
    }
   ],
   "source": [
    "F.sigmoid(X_out).shape"
   ]
  },
  {
   "cell_type": "code",
   "execution_count": null,
   "metadata": {},
   "outputs": [],
   "source": []
  },
  {
   "cell_type": "code",
   "execution_count": 94,
   "metadata": {
    "ExecuteTime": {
     "end_time": "2019-11-11T03:02:23.664600Z",
     "start_time": "2019-11-11T03:02:23.657193Z"
    }
   },
   "outputs": [],
   "source": [
    "class denoise_RNN(nn.Module):\n",
    "    def __init__(self, input_dm, n_lstm_layers, n_lstm_units, output_dm,dropout,max_len):\n",
    "        \n",
    "        super(denoise_RNN,self).__init__()\n",
    "        \n",
    "        self.n_lstm_units = n_lstm_units\n",
    "        self.output_dm = output_dm\n",
    "        self.max_len = max_len\n",
    "\n",
    "        # design LSTM\n",
    "        self.lstm = nn.LSTM(\n",
    "            input_size=input_dm,\n",
    "            hidden_size=n_lstm_units,\n",
    "            num_layers=n_lstm_layers,\n",
    "            batch_first=True,\n",
    "            dropout = dropout,\n",
    "            bidirectional=True\n",
    "        )\n",
    "        \n",
    "        # output layer which projects back to tag space\n",
    "        self.hidden_to_linear = nn.Linear(n_lstm_units,output_dm)\n",
    "\n",
    "\n",
    "    def forward(self, X, X_lengths):\n",
    "        \n",
    "        X_packed = nn.utils.rnn.pack_padded_sequence(X,X_lengths, batch_first=True)\n",
    "        X_packed, (hidden, cell) = self.lstm(X_packed)\n",
    "        X_out,_ = nn.utils.rnn.pad_packed_sequence(X_packed, batch_first=True, \n",
    "                                                   padding_value=0.0, total_length=self.max_len)\n",
    "        \n",
    "        print(X_out.shape)\n",
    "        X_out = X_out.reshape(X_out.shape[0],self.max_len,2,self.n_lstm_units)\n",
    "        M_hat = F.sigmoid(X_out[:,:,0,:])\n",
    "               \n",
    "        return M_hat\n",
    "    \n",
    "    def pad_ignore_flatten(M_hat,X_lengths):\n",
    "        \n"
   ]
  },
  {
   "cell_type": "code",
   "execution_count": 95,
   "metadata": {
    "ExecuteTime": {
     "end_time": "2019-11-11T03:02:24.174791Z",
     "start_time": "2019-11-11T03:02:24.126543Z"
    }
   },
   "outputs": [],
   "source": [
    "rnn_model = denoise_RNN(input_dm=input_dm, \n",
    "                        n_lstm_layers=1,\n",
    "                        n_lstm_units=513,\n",
    "                        output_dm=513,\n",
    "                        dropout=0.2,\n",
    "                        max_len=max_len).to(device)"
   ]
  },
  {
   "cell_type": "code",
   "execution_count": 101,
   "metadata": {
    "ExecuteTime": {
     "end_time": "2019-11-11T03:38:42.797014Z",
     "start_time": "2019-11-11T03:38:42.793158Z"
    }
   },
   "outputs": [
    {
     "data": {
      "text/plain": [
       "torch.Size([100, 180, 513])"
      ]
     },
     "execution_count": 101,
     "metadata": {},
     "output_type": "execute_result"
    }
   ],
   "source": [
    "M_hat.shape"
   ]
  },
  {
   "cell_type": "code",
   "execution_count": 99,
   "metadata": {
    "ExecuteTime": {
     "end_time": "2019-11-11T03:26:10.067715Z",
     "start_time": "2019-11-11T03:26:10.012702Z"
    }
   },
   "outputs": [
    {
     "data": {
      "text/plain": [
       "torch.Size([100, 180, 513])"
      ]
     },
     "execution_count": 99,
     "metadata": {},
     "output_type": "execute_result"
    }
   ],
   "source": [
    "M_hat.squeeze().shape"
   ]
  },
  {
   "cell_type": "code",
   "execution_count": 151,
   "metadata": {
    "ExecuteTime": {
     "end_time": "2019-11-11T04:22:37.743989Z",
     "start_time": "2019-11-11T04:22:37.379982Z"
    }
   },
   "outputs": [],
   "source": [
    "M_hat_in = 1 - M_hat"
   ]
  },
  {
   "cell_type": "code",
   "execution_count": 152,
   "metadata": {
    "ExecuteTime": {
     "end_time": "2019-11-11T04:22:45.427348Z",
     "start_time": "2019-11-11T04:22:45.421878Z"
    }
   },
   "outputs": [
    {
     "data": {
      "text/plain": [
       "torch.Size([100, 180, 513])"
      ]
     },
     "execution_count": 152,
     "metadata": {},
     "output_type": "execute_result"
    }
   ],
   "source": [
    "M_hat_in.shape"
   ]
  },
  {
   "cell_type": "code",
   "execution_count": null,
   "metadata": {},
   "outputs": [],
   "source": []
  },
  {
   "cell_type": "code",
   "execution_count": 165,
   "metadata": {
    "ExecuteTime": {
     "end_time": "2019-11-11T04:29:24.014125Z",
     "start_time": "2019-11-11T04:29:24.010374Z"
    }
   },
   "outputs": [],
   "source": [
    "criterion = nn.BCELoss(reduction=\"sum\")"
   ]
  },
  {
   "cell_type": "code",
   "execution_count": 166,
   "metadata": {
    "ExecuteTime": {
     "end_time": "2019-11-11T04:29:26.894734Z",
     "start_time": "2019-11-11T04:29:26.890389Z"
    }
   },
   "outputs": [
    {
     "data": {
      "text/plain": [
       "tensor(2.3671)"
      ]
     },
     "execution_count": 166,
     "metadata": {},
     "output_type": "execute_result"
    }
   ],
   "source": [
    "y_hat = torch.tensor([[0.5,0.25,0.25]])\n",
    "y = torch.tensor([[1,0,1]]).float()\n",
    "criterion(y_hat,y)"
   ]
  },
  {
   "cell_type": "code",
   "execution_count": 168,
   "metadata": {
    "ExecuteTime": {
     "end_time": "2019-11-11T04:29:54.258496Z",
     "start_time": "2019-11-11T04:29:53.792175Z"
    }
   },
   "outputs": [],
   "source": [
    "batch_ce_loss = 0.0\n",
    "for i in range(M_hat.size(0)):\n",
    "    ce_loss = criterion(M_hat[i,0:seq_lengths[i],:].view(1,-1), M[i,0:seq_lengths[i],:].view(1,-1).float())\n",
    "    batch_ce_loss += ce_loss\n",
    "batch_ce_loss.backward()"
   ]
  },
  {
   "cell_type": "code",
   "execution_count": 163,
   "metadata": {
    "ExecuteTime": {
     "end_time": "2019-11-11T04:28:31.898747Z",
     "start_time": "2019-11-11T04:28:31.892581Z"
    }
   },
   "outputs": [
    {
     "data": {
      "text/plain": [
       "tensor([[0., 0., 0.,  ..., 0., 0., 0.]], device='cuda:0')"
      ]
     },
     "execution_count": 163,
     "metadata": {},
     "output_type": "execute_result"
    }
   ],
   "source": [
    "M[i,0:seq_lengths[i],:].view(1,-1).float()"
   ]
  },
  {
   "cell_type": "code",
   "execution_count": 164,
   "metadata": {
    "ExecuteTime": {
     "end_time": "2019-11-11T04:28:40.739246Z",
     "start_time": "2019-11-11T04:28:39.911683Z"
    }
   },
   "outputs": [
    {
     "data": {
      "text/plain": [
       "tensor(0.6934, device='cuda:0', grad_fn=<BinaryCrossEntropyBackward>)"
      ]
     },
     "execution_count": 164,
     "metadata": {},
     "output_type": "execute_result"
    }
   ],
   "source": [
    "criterion(M_hat[i,0:seq_lengths[i],:].view(1,-1),M[i,0:seq_lengths[i],:].view(1,-1).float())"
   ]
  },
  {
   "cell_type": "code",
   "execution_count": 131,
   "metadata": {
    "ExecuteTime": {
     "end_time": "2019-11-11T03:57:52.765203Z",
     "start_time": "2019-11-11T03:57:52.756298Z"
    }
   },
   "outputs": [
    {
     "data": {
      "text/plain": [
       "torch.Tensor"
      ]
     },
     "execution_count": 131,
     "metadata": {},
     "output_type": "execute_result"
    }
   ],
   "source": [
    "type(seq_lengths[0])"
   ]
  },
  {
   "cell_type": "code",
   "execution_count": 132,
   "metadata": {
    "ExecuteTime": {
     "end_time": "2019-11-11T03:58:04.586232Z",
     "start_time": "2019-11-11T03:58:04.180311Z"
    }
   },
   "outputs": [
    {
     "data": {
      "text/plain": [
       "tensor([[0, 0, 0,  ..., 0, 0, 0],\n",
       "        [0, 0, 0,  ..., 0, 0, 0],\n",
       "        [0, 0, 0,  ..., 0, 0, 0],\n",
       "        ...,\n",
       "        [0, 0, 0,  ..., 0, 0, 0],\n",
       "        [0, 0, 0,  ..., 0, 0, 0],\n",
       "        [0, 0, 0,  ..., 0, 0, 0]], device='cuda:0')"
      ]
     },
     "execution_count": 132,
     "metadata": {},
     "output_type": "execute_result"
    }
   ],
   "source": [
    "seq_lengths[0]"
   ]
  },
  {
   "cell_type": "code",
   "execution_count": 130,
   "metadata": {
    "ExecuteTime": {
     "end_time": "2019-11-11T03:57:26.952029Z",
     "start_time": "2019-11-11T03:57:26.942109Z"
    }
   },
   "outputs": [
    {
     "ename": "TypeError",
     "evalue": "only integer tensors of a single element can be converted to an index",
     "output_type": "error",
     "traceback": [
      "\u001b[0;31m---------------------------------------------------------------------------\u001b[0m",
      "\u001b[0;31mTypeError\u001b[0m                                 Traceback (most recent call last)",
      "\u001b[0;32m<ipython-input-130-67b0222a91f7>\u001b[0m in \u001b[0;36m<module>\u001b[0;34m\u001b[0m\n\u001b[0;32m----> 1\u001b[0;31m \u001b[0mM_hat\u001b[0m\u001b[0;34m[\u001b[0m\u001b[0;36m0\u001b[0m\u001b[0;34m,\u001b[0m\u001b[0;36m0\u001b[0m\u001b[0;34m:\u001b[0m\u001b[0mseq_lengths\u001b[0m\u001b[0;34m[\u001b[0m\u001b[0;36m0\u001b[0m\u001b[0;34m]\u001b[0m\u001b[0;34m,\u001b[0m\u001b[0;34m:\u001b[0m\u001b[0;34m]\u001b[0m\u001b[0;34m.\u001b[0m\u001b[0mshape\u001b[0m\u001b[0;34m\u001b[0m\u001b[0;34m\u001b[0m\u001b[0m\n\u001b[0m",
      "\u001b[0;31mTypeError\u001b[0m: only integer tensors of a single element can be converted to an index"
     ]
    }
   ],
   "source": [
    "M_hat[0,0:seq_lengths[0],:].shape"
   ]
  },
  {
   "cell_type": "code",
   "execution_count": 109,
   "metadata": {
    "ExecuteTime": {
     "end_time": "2019-11-11T03:42:17.965280Z",
     "start_time": "2019-11-11T03:42:17.960324Z"
    }
   },
   "outputs": [
    {
     "data": {
      "text/plain": [
       "torch.Size([1, 71307])"
      ]
     },
     "execution_count": 109,
     "metadata": {},
     "output_type": "execute_result"
    }
   ],
   "source": [
    "M_hat[i,0:seq_lengths[0],:].view(1,-1).shape"
   ]
  },
  {
   "cell_type": "code",
   "execution_count": 169,
   "metadata": {
    "ExecuteTime": {
     "end_time": "2019-11-11T04:38:02.086775Z",
     "start_time": "2019-11-11T04:38:02.070610Z"
    }
   },
   "outputs": [
    {
     "data": {
      "text/plain": [
       "3.3333333333333335"
      ]
     },
     "execution_count": 169,
     "metadata": {},
     "output_type": "execute_result"
    }
   ],
   "source": [
    "100/30"
   ]
  },
  {
   "cell_type": "code",
   "execution_count": 173,
   "metadata": {
    "ExecuteTime": {
     "end_time": "2019-11-11T04:39:07.631476Z",
     "start_time": "2019-11-11T04:39:07.625921Z"
    }
   },
   "outputs": [
    {
     "data": {
      "text/plain": [
       "4.0"
      ]
     },
     "execution_count": 173,
     "metadata": {},
     "output_type": "execute_result"
    }
   ],
   "source": [
    "np.ceil(100/30)"
   ]
  },
  {
   "cell_type": "code",
   "execution_count": 174,
   "metadata": {
    "ExecuteTime": {
     "end_time": "2019-11-11T04:41:34.793817Z",
     "start_time": "2019-11-11T04:41:34.673591Z"
    }
   },
   "outputs": [],
   "source": [
    "def make_batches(X,M,seq_lengths,batch_size):\n",
    "    batch = []\n",
    "    n = X.shape[0]\n",
    "    b = int(np.ceil(n/batch_size))\n",
    "    for i in range(0,b):\n",
    "        s = i*batch_size\n",
    "        e = min((i+1)*(batch_size),n)\n",
    "        sl_batch = seq_length[s:e]\n",
    "        seq = np.argsort(sl_batch)\n",
    "        sl_batch = sl_batch\n",
    "        x_batch = X[s:e]\n",
    "        m_batch = M[s:e]\n",
    "        \n",
    "        \n",
    "        batch.append((,M[s:e],seq_length))"
   ]
  },
  {
   "cell_type": "code",
   "execution_count": 175,
   "metadata": {
    "ExecuteTime": {
     "end_time": "2019-11-11T04:41:48.785911Z",
     "start_time": "2019-11-11T04:41:48.657310Z"
    }
   },
   "outputs": [
    {
     "name": "stdout",
     "output_type": "stream",
     "text": [
      "0\n",
      "30\n",
      "30\n",
      "60\n",
      "60\n",
      "90\n",
      "90\n",
      "100\n"
     ]
    }
   ],
   "source": []
  },
  {
   "cell_type": "code",
   "execution_count": null,
   "metadata": {},
   "outputs": [],
   "source": []
  }
 ],
 "metadata": {
  "kernelspec": {
   "display_name": "Python 3",
   "language": "python",
   "name": "python3"
  },
  "language_info": {
   "codemirror_mode": {
    "name": "ipython",
    "version": 3
   },
   "file_extension": ".py",
   "mimetype": "text/x-python",
   "name": "python",
   "nbconvert_exporter": "python",
   "pygments_lexer": "ipython3",
   "version": "3.6.9"
  }
 },
 "nbformat": 4,
 "nbformat_minor": 2
}
