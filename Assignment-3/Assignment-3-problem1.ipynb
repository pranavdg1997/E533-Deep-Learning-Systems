{
 "cells": [
  {
   "cell_type": "markdown",
   "metadata": {},
   "source": [
    "## Importing libraries"
   ]
  },
  {
   "cell_type": "code",
   "execution_count": 1,
   "metadata": {
    "ExecuteTime": {
     "end_time": "2019-11-13T03:28:01.799740Z",
     "start_time": "2019-11-13T03:28:00.389442Z"
    },
    "colab": {},
    "colab_type": "code",
    "id": "lz4kHIf-nm9w"
   },
   "outputs": [
    {
     "name": "stdout",
     "output_type": "stream",
     "text": [
      "GeForce GTX 1050\n"
     ]
    }
   ],
   "source": [
    "#importing basic libraries\n",
    "import numpy as np\n",
    "import pandas as pd\n",
    "import matplotlib.pyplot as plt\n",
    "import seaborn as sns\n",
    "import os\n",
    "import warnings\n",
    "from sklearn.metrics import *\n",
    "warnings.filterwarnings('ignore')\n",
    "%matplotlib inline\n",
    "\n",
    "#Importing pytorch functions and modules\n",
    "import torch\n",
    "device = torch.device(\"cuda:0\" if torch.cuda.is_available() else \"cpu\")\n",
    "print(torch.cuda.get_device_name(0))\n",
    "import torch.nn as nn\n",
    "import torch.nn.functional as F\n",
    "from torch.autograd import Variable\n",
    "from torch import optim\n",
    "import torchvision\n",
    "import torchvision.datasets as datasets\n",
    "from torchvision import transforms\n",
    "\n",
    "\n",
    "\n",
    "#Setting random seed for reproducibility\n",
    "SEED = 1234\n",
    "torch.manual_seed(SEED)\n",
    "np.random.seed(SEED)\n",
    "torch.backends.cudnn.deterministic = True\n",
    "torch.backends.cudnn.benchmark = False"
   ]
  },
  {
   "cell_type": "markdown",
   "metadata": {},
   "source": [
    "## 1.1-1.2"
   ]
  },
  {
   "cell_type": "code",
   "execution_count": 2,
   "metadata": {
    "ExecuteTime": {
     "end_time": "2019-11-13T03:28:01.804456Z",
     "start_time": "2019-11-13T03:28:01.801657Z"
    },
    "colab": {},
    "colab_type": "code",
    "id": "hQi5aJOFrZ_m"
   },
   "outputs": [],
   "source": [
    "# Fixed variables\n",
    "epochs = 200               #maximum epochs of training\n",
    "input_dm1 = 28             #Length of image\n",
    "input_dm2 = 28             #Breadth of image\n",
    "output_dm = 10             #Output dimension\n",
    "early_stopping_rounds = 10  #Epochs after which training should stop if there is no increase in performance"
   ]
  },
  {
   "cell_type": "code",
   "execution_count": 3,
   "metadata": {
    "ExecuteTime": {
     "end_time": "2019-11-13T03:28:01.991458Z",
     "start_time": "2019-11-13T03:28:01.806548Z"
    },
    "colab": {},
    "colab_type": "code",
    "id": "w6G79Y0argmu"
   },
   "outputs": [],
   "source": [
    "#initializing transformer to convert values to tensor and normalize image matrices\n",
    "trans = transforms.Compose([\n",
    "transforms.ToTensor(),\n",
    "transforms.Normalize((0.1307,), (0.3081,))\n",
    "])\n",
    "\n",
    "#Loading datasets\n",
    "mnist_train = datasets.MNIST(root='./data', train=True, download=True, transform=trans)\n",
    "mnist_test = datasets.MNIST(root='./data', train=False, download=True, transform=trans)\n",
    "\n",
    "#Reading number of samples in each set\n",
    "n_train = len(mnist_train)\n",
    "n_test = len(mnist_test)\n",
    "\n"
   ]
  },
  {
   "cell_type": "code",
   "execution_count": 4,
   "metadata": {
    "ExecuteTime": {
     "end_time": "2019-11-13T03:28:02.014066Z",
     "start_time": "2019-11-13T03:28:01.993407Z"
    },
    "colab": {},
    "colab_type": "code",
    "id": "Qu0rH8_Krjyz"
   },
   "outputs": [],
   "source": [
    "class Linear_Network(nn.Module):\n",
    "    def __init__(self,input_dm1,input_dm2,dropout=0):\n",
    "        super(Linear_Network,self).__init__()\n",
    "        self.input_layer = nn.Linear(input_dm1*input_dm2, 1024)\n",
    "        self.hidden_layer_1 = nn.Linear(1024, 1024)\n",
    "        self.hidden_layer_2 = nn.Linear(1024, 1024)\n",
    "        self.hidden_layer_3 = nn.Linear(1024, 1024)\n",
    "        self.hidden_layer_4 = nn.Linear(1024, 1024)\n",
    "        self.hidden_layer_5 = nn.Linear(1024, 1024)\n",
    "        self.output_layer = nn.Linear(1024, 10)\n",
    "        self.dd = nn.Dropout(dropout)\n",
    "#         print(\"Neural network defined for device: \"+str(device))\n",
    "#         print(\"Input image shape: [\"+str(input_dm1)+\",\"+str(input_dm2)+\"]\")\n",
    "        \n",
    "        \n",
    "    def forward(self, x):\n",
    "        \n",
    "        x = self.input_layer(x)\n",
    "        x = F.relu(x)\n",
    "        #x = self.dd(x)\n",
    "        \n",
    "        #5 hidden layers\n",
    "        x = self.hidden_layer_1(x)\n",
    "        x = F.relu(x)\n",
    "        #x = self.dd(x)\n",
    "        x = self.hidden_layer_2(x)\n",
    "        x = F.relu(x)\n",
    "        #x = self.dd(x)\n",
    "        x = self.hidden_layer_3(x)\n",
    "        x = F.relu(x)\n",
    "        #x = self.dd(x)\n",
    "        x = self.hidden_layer_4(x)\n",
    "        x = F.relu(x)\n",
    "        #x = self.dd(x)\n",
    "        x = self.hidden_layer_5(x)\n",
    "        x = F.relu(x)\n",
    "        #x = self.dd(x)\n",
    "        \n",
    "     \n",
    "        x = self.output_layer(x)\n",
    "        x = F.softmax(x, dim=1)\n",
    "        \n",
    "        return x\n",
    "\n",
    "\n",
    "\n",
    "#Uniform initialization      \n",
    "def weights_init_uniform_rule(m):\n",
    "  classname = m.__class__.__name__\n",
    "  # for every Linear layer in a model..\n",
    "  if classname.find('Linear') != -1:\n",
    "      # get the number of the inputs\n",
    "      n = m.in_features\n",
    "      y = 1.0/np.sqrt(n)\n",
    "      m.weight.data.uniform_(-y, y)\n",
    "      m.bias.data.fill_(0)\n",
    "\n",
    "#Function for training neural network with early stopping functionality if validation score doesn't improve\n",
    "def train_neural_network(model,train_dataset,val_dataset,epochs,early_stopping_rounds,batch_size,\n",
    "                         learning_rate,verbose,criterion,eval_func,input_dm1,input_dm2,device,tol,saved_model):\n",
    "\n",
    "  \n",
    "  \n",
    "  \n",
    "  #Dictionary where all the important outputs will be kept\n",
    "  result_dict = dict()\n",
    "  #Reading number of samples in each set\n",
    "  n_train = len(train_dataset)\n",
    "  n_val = len(val_dataset)\n",
    "\n",
    "  # Data loader, using custom user provided batch size\n",
    "  train_loader = torch.utils.data.DataLoader(dataset=train_dataset, \n",
    "                                             batch_size=batch_size, \n",
    "                                             shuffle=True)\n",
    "\n",
    "  val_loader = torch.utils.data.DataLoader(dataset=val_dataset, \n",
    "                                             batch_size=n_val, \n",
    "                                             shuffle=True)\n",
    "  \n",
    "  \n",
    "  \n",
    "  # Optimizer\n",
    "  optimizer = torch.optim.Adam(model.parameters(), lr=learning_rate)\n",
    "  \n",
    "  \n",
    "  # Train the model\n",
    "  epoch=1\n",
    "  stop=0\n",
    "  best_performance = 0\n",
    "  rounds = 0\n",
    "  stop = False\n",
    "  train_loss_history = []\n",
    "  val_loss_history = []\n",
    "\n",
    "\n",
    "\n",
    "  if((saved_model != None)):\n",
    "    if(saved_model in os.listdir()):\n",
    "      print(\"Pre-trained model found, to train from scratch set 'saved_model' to None\")\n",
    "      model.load_state_dict(torch.load(\"saved_model.pt\"))\n",
    "      early_stopping_rounds = 1\n",
    "  \n",
    "\n",
    "  \n",
    "  #Training while loop \n",
    "  \n",
    "  while ((epoch <= epochs)&(stop==False)):\n",
    "    train_loss_arr = []\n",
    "    for images, labels in train_loader:  \n",
    "      # Move tensors to GPU/CPU\n",
    "      images_reshaped = images.reshape(-1,input_dm1*input_dm2).to(device)\n",
    "      labels = labels.to(device)\n",
    "\n",
    "      # Forward pass\n",
    "      outputs = model(images_reshaped)\n",
    "      loss = criterion(outputs, labels)\n",
    "\n",
    "      optimizer.zero_grad()\n",
    "      loss.backward()\n",
    "      optimizer.step()\n",
    "\n",
    "      train_loss_arr.append(loss.item())\n",
    "    train_loss = torch.mean(torch.tensor(train_loss_arr))\n",
    "    train_loss_history.append(train_loss)\n",
    "\n",
    "\n",
    "\n",
    "    with torch.no_grad():\n",
    "      val_images,val_labels = next(iter(val_loader))\n",
    "      val_images_reshaped = val_images.reshape(-1, input_dm1*input_dm2).to(device)\n",
    "      val_output = model.forward(val_images_reshaped)\n",
    "      val_labels_pred = val_output.argmax(1).cpu().numpy()\n",
    "      performance = round(eval_func(val_labels.numpy(),val_labels_pred),tol)\n",
    "      val_loss  = criterion(val_output.to(device),val_labels.to(device)).item()\n",
    "      val_loss_history.append(val_loss)\n",
    "\n",
    "\n",
    "    #Check if we have an increase in performance\n",
    "    if(performance > best_performance):\n",
    "      rounds = 0\n",
    "      best_performance = performance\n",
    "      best_prediction = val_labels_pred\n",
    "      best_state_dict = model.state_dict()\n",
    "      result_dict[\"train_loader\"] = train_loader\n",
    "      result_dict[\"val_images\"] = val_images\n",
    "      result_dict[\"val_labels\"] = val_labels\n",
    "      result_dict[\"best_model\"] = model\n",
    "      result_dict[\"val_labels_pred\"] = best_prediction\n",
    "      result_dict[\"best_performance\"] = best_performance\n",
    "      torch.save(model, 'best_mnist_model.pt')\n",
    "    else:\n",
    "      rounds += 1\n",
    "      if(rounds >= early_stopping_rounds):\n",
    "        stop = True\n",
    "\n",
    "\n",
    "    #Print statement, every 5 epochs or if it is the last epoch\n",
    "    if(((epoch%5==0)|(stop==True))&(verbose==True)):\n",
    "      print(\"EPOCH:\"+str(epoch))\n",
    "      if(stop==True):\n",
    "        print(\"Training to be concluded after this epoch\") \n",
    "      print(\"Average training loss per sample  = \"+str(train_loss))\n",
    "      print('Performance of the network in current epoch = '+str(round(performance,2)))\n",
    "      print('Best performance of the network yet  = '+str(round(best_performance,2)))\n",
    "\n",
    "\n",
    "    epoch += 1\n",
    "    #While loop ends\n",
    "  \n",
    "  print(\"BEST SCORE IS:\"+str(round(best_performance,2)))\n",
    "  # summarize history for loss\n",
    "  plt.plot(train_loss_history)\n",
    "  plt.plot(val_loss_history)\n",
    "  plt.title('model loss')\n",
    "  plt.ylabel('loss')\n",
    "  plt.xlabel('epoch')\n",
    "  plt.legend(['train', 'validation'], loc='upper left')\n",
    "  plt.show()\n",
    "  \n",
    "  \n",
    "  return(result_dict)"
   ]
  },
  {
   "cell_type": "code",
   "execution_count": 5,
   "metadata": {
    "ExecuteTime": {
     "end_time": "2019-11-13T03:28:31.130320Z",
     "start_time": "2019-11-13T03:28:02.015625Z"
    },
    "colab": {},
    "colab_type": "code",
    "id": "tjMLgUEyrylk"
   },
   "outputs": [],
   "source": [
    "\n",
    "from sklearn.metrics import accuracy_score\n",
    "\n",
    "#Defining hyper parameters \n",
    "batch_size = 7000\n",
    "dropout = 0.2\n",
    "learning_rate = 0.001\n",
    "\n",
    "#Defining model object and applying initialization\n",
    "my_model = Linear_Network(input_dm1=input_dm1,input_dm2=input_dm2,dropout=dropout).to(device)\n"
   ]
  },
  {
   "cell_type": "code",
   "execution_count": 6,
   "metadata": {
    "ExecuteTime": {
     "end_time": "2019-11-13T03:34:15.249381Z",
     "start_time": "2019-11-13T03:28:31.256045Z"
    },
    "colab": {},
    "colab_type": "code",
    "id": "z5LNjn-vtRA6"
   },
   "outputs": [
    {
     "name": "stdout",
     "output_type": "stream",
     "text": [
      "Pre-trained model found, to train from scratch set 'saved_model' to None\n",
      "EPOCH:3\n",
      "Training to be concluded after this epoch\n",
      "Average training loss per sample  = tensor(1.4744)\n",
      "Performance of the network in current epoch = 0.98\n",
      "Best performance of the network yet  = 0.98\n",
      "BEST SCORE IS:0.98\n"
     ]
    },
    {
     "data": {
      "image/png": "[encoded data removed]",
      "text/plain": [
       "<Figure size 432x288 with 1 Axes>"
      ]
     },
     "metadata": {
      "needs_background": "light"
     },
     "output_type": "display_data"
    }
   ],
   "source": [
    "#Carrying out trainingz\n",
    "result_dict = train_neural_network(model=my_model,\n",
    "               train_dataset=mnist_train,\n",
    "               val_dataset=mnist_test,\n",
    "               epochs=epochs,\n",
    "               early_stopping_rounds=early_stopping_rounds,\n",
    "               batch_size=batch_size,\n",
    "               learning_rate=learning_rate,\n",
    "               verbose=True,\n",
    "               eval_func=accuracy_score,\n",
    "               input_dm1=input_dm1,\n",
    "               input_dm2=input_dm2,\n",
    "               criterion=nn.CrossEntropyLoss(),\n",
    "               saved_model = None,\n",
    "               tol=3,\n",
    "               device=device)\n",
    "\n",
    "train_loader = result_dict[\"train_loader\"] \n",
    "val_images = result_dict[\"val_images\"] \n",
    "val_labels = result_dict[\"val_labels\"]\n",
    "best_model = result_dict[\"best_model\"] \n",
    "val_labels_pred = result_dict[\"val_labels_pred\"] "
   ]
  },
  {
   "cell_type": "markdown",
   "metadata": {},
   "source": [
    "## 1.3-1.5"
   ]
  },
  {
   "cell_type": "code",
   "execution_count": 7,
   "metadata": {
    "ExecuteTime": {
     "end_time": "2019-11-13T03:34:15.331228Z",
     "start_time": "2019-11-13T03:34:15.258160Z"
    },
    "colab": {},
    "colab_type": "code",
    "id": "hWGhqDTXtUM8"
   },
   "outputs": [],
   "source": [
    "d_values = [10,20,50,100,200,1024]\n",
    "val_images_reshaped = val_images.reshape(-1, input_dm1*input_dm2).to(device)"
   ]
  },
  {
   "cell_type": "code",
   "execution_count": 8,
   "metadata": {
    "ExecuteTime": {
     "end_time": "2019-11-13T03:34:20.797947Z",
     "start_time": "2019-11-13T03:34:15.342902Z"
    },
    "colab": {},
    "colab_type": "code",
    "id": "y4Xs4BgNtW5G"
   },
   "outputs": [],
   "source": [
    "# Run SVD on W and return compressed W taking the first D eignevalues\n",
    "def compress(W,D):\n",
    "    (U, s, V) = torch.svd(W)\n",
    "    W_d = torch.mm(torch.mm(U[:,0:D],torch.diag(s)[0:D,0:D]),V[:,0:D].T)\n",
    "    assert(W.shape==W_d.shape)\n",
    "    return(W_d)"
   ]
  },
  {
   "cell_type": "code",
   "execution_count": 9,
   "metadata": {
    "ExecuteTime": {
     "end_time": "2019-11-13T03:43:19.415466Z",
     "start_time": "2019-11-13T03:34:20.804383Z"
    },
    "colab": {},
    "colab_type": "code",
    "id": "3jWvJTcBtY8l"
   },
   "outputs": [
    {
     "data": {
      "text/html": [
       "<div>\n",
       "<style scoped>\n",
       "    .dataframe tbody tr th:only-of-type {\n",
       "        vertical-align: middle;\n",
       "    }\n",
       "\n",
       "    .dataframe tbody tr th {\n",
       "        vertical-align: top;\n",
       "    }\n",
       "\n",
       "    .dataframe thead th {\n",
       "        text-align: right;\n",
       "    }\n",
       "</style>\n",
       "<table border=\"1\" class=\"dataframe\">\n",
       "  <thead>\n",
       "    <tr style=\"text-align: right;\">\n",
       "      <th></th>\n",
       "      <th>D</th>\n",
       "      <th>test_accuracy</th>\n",
       "    </tr>\n",
       "  </thead>\n",
       "  <tbody>\n",
       "    <tr>\n",
       "      <th>0</th>\n",
       "      <td>10.0</td>\n",
       "      <td>0.795</td>\n",
       "    </tr>\n",
       "    <tr>\n",
       "      <th>1</th>\n",
       "      <td>20.0</td>\n",
       "      <td>0.960</td>\n",
       "    </tr>\n",
       "    <tr>\n",
       "      <th>2</th>\n",
       "      <td>50.0</td>\n",
       "      <td>0.978</td>\n",
       "    </tr>\n",
       "    <tr>\n",
       "      <th>3</th>\n",
       "      <td>100.0</td>\n",
       "      <td>0.978</td>\n",
       "    </tr>\n",
       "    <tr>\n",
       "      <th>4</th>\n",
       "      <td>200.0</td>\n",
       "      <td>0.978</td>\n",
       "    </tr>\n",
       "    <tr>\n",
       "      <th>5</th>\n",
       "      <td>1024.0</td>\n",
       "      <td>0.978</td>\n",
       "    </tr>\n",
       "  </tbody>\n",
       "</table>\n",
       "</div>"
      ],
      "text/plain": [
       "        D  test_accuracy\n",
       "0    10.0          0.795\n",
       "1    20.0          0.960\n",
       "2    50.0          0.978\n",
       "3   100.0          0.978\n",
       "4   200.0          0.978\n",
       "5  1024.0          0.978"
      ]
     },
     "execution_count": 9,
     "metadata": {},
     "output_type": "execute_result"
    }
   ],
   "source": [
    "results = pd.DataFrame()\n",
    "for D in d_values:\n",
    "    new_model = Linear_Network(input_dm1=input_dm1,input_dm2=input_dm2,dropout=dropout).to(device)\n",
    "    \n",
    "    #Making sure that apart from the weights we are modifying, all other parameters have the same value\n",
    "    new_model.load_state_dict(my_model.state_dict())\n",
    "    \n",
    "    w = new_model.input_layer.weight.data\n",
    "    new_model.input_layer.weight.data = compress(w,min(w.shape[0],w.shape[0],D))\n",
    "    new_model.hidden_layer_1.weight.data = compress(new_model.hidden_layer_1.weight.data,D)\n",
    "    new_model.hidden_layer_2.weight.data = compress(new_model.hidden_layer_2.weight.data,D)\n",
    "    new_model.hidden_layer_3.weight.data = compress(new_model.hidden_layer_3.weight.data,D)\n",
    "    new_model.hidden_layer_4.weight.data = compress(new_model.hidden_layer_4.weight.data,D)\n",
    "    new_model.hidden_layer_5.weight.data = compress(new_model.hidden_layer_5.weight.data,D)\n",
    "    \n",
    "    \n",
    "    val_labels_pred = new_model.forward(val_images_reshaped).argmax(1).cpu().numpy()\n",
    "    test_accuracy = accuracy_score(val_labels.numpy(),val_labels_pred)\n",
    "    results = results.append({\"D\":D,\"test_accuracy\":round(test_accuracy,3)},ignore_index=True)\n",
    "results"
   ]
  },
  {
   "cell_type": "code",
   "execution_count": 10,
   "metadata": {
    "ExecuteTime": {
     "end_time": "2019-11-13T03:43:22.586797Z",
     "start_time": "2019-11-13T03:43:19.507942Z"
    },
    "colab": {},
    "colab_type": "code",
    "id": "Ww_6JkKytfYe"
   },
   "outputs": [
    {
     "data": {
      "text/plain": [
       "<matplotlib.axes._subplots.AxesSubplot at 0x7fbd602e8518>"
      ]
     },
     "execution_count": 10,
     "metadata": {},
     "output_type": "execute_result"
    },
    {
     "data": {
      "image/png": "[encoded data removed]",
      "text/plain": [
       "<Figure size 432x288 with 1 Axes>"
      ]
     },
     "metadata": {
      "needs_background": "light"
     },
     "output_type": "display_data"
    }
   ],
   "source": [
    "plt.figure()\n",
    "sns.lineplot(x=\"D\",y=\"test_accuracy\",data=results)"
   ]
  },
  {
   "cell_type": "markdown",
   "metadata": {},
   "source": [
    "## 1.6"
   ]
  },
  {
   "cell_type": "markdown",
   "metadata": {
    "colab_type": "text",
    "id": "9dMc0cO0xBBG"
   },
   "source": [
    "x1 and x2 represent activations of two consecutive linear layers in a NN,\n",
    "x2 = f(W * x1 + b) where W,b and f are the weight, bias and activation function respectively\n",
    "If we are to replace W with a lower dimensional U and V respectively where weights of both are learned simultaneously, we will essential replace one layer with two layers  so that xm is the intermediary activation. \n",
    "\n",
    "Now, we have - \n",
    "\n",
    "*   x2 = f2(V * x_m + b2)\n",
    "*   x_m = f1(U * x1 + b1)\n",
    "\n",
    "The only modification is that f1 is identity function and b2 will be 0 and constant"
   ]
  },
  {
   "cell_type": "code",
   "execution_count": 11,
   "metadata": {
    "ExecuteTime": {
     "end_time": "2019-11-13T03:43:22.591263Z",
     "start_time": "2019-11-13T03:43:22.587934Z"
    },
    "colab": {},
    "colab_type": "code",
    "id": "UyxnN7XhtkMe"
   },
   "outputs": [],
   "source": [
    "def compress_U(W,D):\n",
    "    (U, s, V) = torch.svd(W)\n",
    "    U_D = U[:,0:D]\n",
    "    U_D.required_grad = True\n",
    "    return(U_D)\n",
    "\n",
    "def compress_V_T(W,D):\n",
    "    (U, s, V) = torch.svd(W)\n",
    "    V_D = V[:,0:D].T\n",
    "    V_D.required_grad = True\n",
    "    return(V_D)"
   ]
  },
  {
   "cell_type": "code",
   "execution_count": 12,
   "metadata": {
    "ExecuteTime": {
     "end_time": "2019-11-13T03:43:22.997925Z",
     "start_time": "2019-11-13T03:43:22.592359Z"
    },
    "colab": {},
    "colab_type": "code",
    "id": "eTjSPoUuxc8Q"
   },
   "outputs": [],
   "source": [
    "class Custom_Linear_Network(nn.Module):\n",
    "    def __init__(self,input_dm1,input_dm2,D,original_model,dropout=0):\n",
    "        super(Custom_Linear_Network,self).__init__()\n",
    "        \n",
    "        #instead of self.input_layer = nn.Linear(784,1024)\n",
    "        self.v_inp = nn.Linear(input_dm1*input_dm2, D,bias=False)\n",
    "        self.u_inp = nn.Linear(D,1024)\n",
    "        #initializing U and V based on SVD\n",
    "        self.v_inp.weight.data = compress_V_T(original_model.input_layer.weight.data,D)\n",
    "        self.u_inp.weight.data = compress_U(original_model.input_layer.weight.data,D)\n",
    "        \n",
    "        \n",
    "        \n",
    "        \n",
    "        \n",
    "        self.v1 = nn.Linear(1024,D,bias=False)  \n",
    "        self.u1 = nn.Linear(D, 1024)\n",
    "        #initializing U and V based on SVD\n",
    "        self.v1.weight.data = compress_V_T(original_model.hidden_layer_1.weight.data,D)\n",
    "        self.u1.weight.data = compress_U(original_model.hidden_layer_1.weight.data,D)\n",
    "        \n",
    "        \n",
    "        self.v2 = nn.Linear(1024,D,bias=False)  \n",
    "        self.u2 = nn.Linear(D, 1024)\n",
    "        #initializing U and V based on SVD\n",
    "        self.v2.weight.data = compress_V_T(original_model.hidden_layer_2.weight.data,D)\n",
    "        self.u2.weight.data = compress_U(original_model.hidden_layer_2.weight.data,D)\n",
    "        \n",
    "        self.v3 = nn.Linear(1024,D,bias=False)  \n",
    "        self.u3 = nn.Linear(D, 1024)\n",
    "        #initializing U and V based on SVD\n",
    "        self.v3.weight.data = compress_V_T(original_model.hidden_layer_3.weight.data,D)\n",
    "        self.u3.weight.data = compress_U(original_model.hidden_layer_3.weight.data,D)\n",
    "        \n",
    "        \n",
    "        self.v4 = nn.Linear(1024,D,bias=False)  \n",
    "        self.u4 = nn.Linear(D, 1024)\n",
    "        #initializing U and V based on SVD\n",
    "        self.v4.weight.data = compress_V_T(original_model.hidden_layer_4.weight.data,D)\n",
    "        self.u4.weight.data = compress_U(original_model.hidden_layer_4.weight.data,D)\n",
    "        \n",
    "        self.v5 = nn.Linear(1024,D,bias=False)  \n",
    "        self.u5 = nn.Linear(D, 1024)\n",
    "        #initializing U and V based on SVD\n",
    "        self.v5.weight.data = compress_V_T(original_model.hidden_layer_5.weight.data,D)\n",
    "        self.u5.weight.data = compress_U(original_model.hidden_layer_5.weight.data,D)\n",
    "        \n",
    "        self.output_layer = nn.Linear(1024, 10)\n",
    "        self.dd = nn.Dropout(dropout)\n",
    "\n",
    "        \n",
    "    def forward(self, x):\n",
    "        \n",
    "        x = self.v_inp(x)\n",
    "        x = self.u_inp(x)\n",
    "        x = F.relu(x)\n",
    "        x = self.dd(x)\n",
    "        \n",
    "        #5 hidden layers\n",
    "        x = self.v1(x)\n",
    "        x = self.u1(x)\n",
    "        x = F.relu(x)\n",
    "        x = self.dd(x)\n",
    "        x = self.v2(x)\n",
    "        x = self.u2(x)\n",
    "        x = F.relu(x)\n",
    "        x = self.dd(x)\n",
    "        x = self.v3(x)\n",
    "        x = self.u3(x)\n",
    "        x = F.relu(x)\n",
    "        x = self.dd(x)\n",
    "        x = self.v4(x)\n",
    "        x = self.u4(x)\n",
    "        x = F.relu(x)\n",
    "        x = self.dd(x)\n",
    "        x = self.v5(x)\n",
    "        x = self.u5(x)\n",
    "        x = F.relu(x)\n",
    "        x = self.dd(x)\n",
    "        \n",
    "        \n",
    "        \n",
    "     \n",
    "        x = self.output_layer(x)\n",
    "        x = F.softmax(x, dim=1)\n",
    "        \n",
    "        return x"
   ]
  },
  {
   "cell_type": "code",
   "execution_count": 13,
   "metadata": {
    "ExecuteTime": {
     "end_time": "2019-11-13T03:43:26.187994Z",
     "start_time": "2019-11-13T03:43:22.999096Z"
    },
    "colab": {},
    "colab_type": "code",
    "id": "YY9IFV_-xfWr"
   },
   "outputs": [],
   "source": [
    "compressed_model = Custom_Linear_Network(input_dm1 = 28,\n",
    "                           input_dm2 = 28,\n",
    "                           D = 20,\n",
    "                           original_model = my_model,\n",
    "                           dropout = 0.2).to(device)\n"
   ]
  },
  {
   "cell_type": "code",
   "execution_count": 14,
   "metadata": {
    "ExecuteTime": {
     "end_time": "2019-11-13T03:51:20.666727Z",
     "start_time": "2019-11-13T03:43:26.189302Z"
    },
    "colab": {},
    "colab_type": "code",
    "id": "L9Z_ANOKxhLg"
   },
   "outputs": [
    {
     "name": "stdout",
     "output_type": "stream",
     "text": [
      "EPOCH:5\n",
      "Average training loss per sample  = tensor(1.6606)\n",
      "Performance of the network in current epoch = 0.84\n",
      "Best performance of the network yet  = 0.84\n",
      "EPOCH:10\n",
      "Average training loss per sample  = tensor(1.5111)\n",
      "Performance of the network in current epoch = 0.96\n",
      "Best performance of the network yet  = 0.96\n",
      "EPOCH:15\n",
      "Average training loss per sample  = tensor(1.4912)\n",
      "Performance of the network in current epoch = 0.97\n",
      "Best performance of the network yet  = 0.97\n",
      "EPOCH:20\n",
      "Average training loss per sample  = tensor(1.4861)\n",
      "Performance of the network in current epoch = 0.97\n",
      "Best performance of the network yet  = 0.97\n",
      "EPOCH:25\n",
      "Average training loss per sample  = tensor(1.4813)\n",
      "Performance of the network in current epoch = 0.98\n",
      "Best performance of the network yet  = 0.98\n",
      "EPOCH:30\n",
      "Average training loss per sample  = tensor(1.4798)\n",
      "Performance of the network in current epoch = 0.97\n",
      "Best performance of the network yet  = 0.98\n",
      "EPOCH:35\n",
      "Training to be concluded after this epoch\n",
      "Average training loss per sample  = tensor(1.4770)\n",
      "Performance of the network in current epoch = 0.97\n",
      "Best performance of the network yet  = 0.98\n",
      "BEST SCORE IS:0.98\n"
     ]
    },
    {
     "data": {
      "image/png": "[encoded data removed]",
      "text/plain": [
       "<Figure size 432x288 with 1 Axes>"
      ]
     },
     "metadata": {
      "needs_background": "light"
     },
     "output_type": "display_data"
    }
   ],
   "source": [
    "result_dict_compressed = train_neural_network(model=compressed_model,\n",
    "               train_dataset=mnist_train,\n",
    "               val_dataset=mnist_test,\n",
    "               epochs=epochs,\n",
    "               early_stopping_rounds=early_stopping_rounds,\n",
    "               batch_size=batch_size,\n",
    "               learning_rate=learning_rate,\n",
    "               verbose=True,\n",
    "               eval_func=accuracy_score,\n",
    "               input_dm1=input_dm1,\n",
    "               input_dm2=input_dm2,\n",
    "               criterion=nn.CrossEntropyLoss(),\n",
    "               tol=3,\n",
    "               saved_model=None,\n",
    "               device=device)"
   ]
  },
  {
   "cell_type": "code",
   "execution_count": 15,
   "metadata": {
    "ExecuteTime": {
     "end_time": "2019-11-13T03:51:20.767148Z",
     "start_time": "2019-11-13T03:51:20.670629Z"
    },
    "colab": {},
    "colab_type": "code",
    "id": "j-m6LzeHxjKQ"
   },
   "outputs": [
    {
     "name": "stdout",
     "output_type": "stream",
     "text": [
      "For original network, forward pass time per sample = 3.140449523925781e-07\n",
      "For compressed network, forward pass time per sample = 8.415889739990234e-06\n"
     ]
    }
   ],
   "source": [
    "#Comparison of forward pass time of both the networks\n",
    "import time\n",
    "t1 = time.time()\n",
    "p1 = my_model.forward(val_images_reshaped)\n",
    "t2 = time.time()\n",
    "print(\"For original network, forward pass time per sample = \"+str((t2-t1)/val_images_reshaped.shape[0]))\n",
    "t3 = time.time()\n",
    "p1 = compressed_model.forward(val_images_reshaped)\n",
    "t4 = time.time()\n",
    "print(\"For compressed network, forward pass time per sample = \"+str((t4-t3)/val_images_reshaped.shape[0]))"
   ]
  },
  {
   "cell_type": "code",
   "execution_count": null,
   "metadata": {
    "colab": {},
    "colab_type": "code",
    "id": "55T-LY4wxloA"
   },
   "outputs": [],
   "source": []
  }
 ],
 "metadata": {
  "colab": {
   "collapsed_sections": [],
   "name": "Assignment-3-problem1.ipynb",
   "provenance": []
  },
  "kernelspec": {
   "display_name": "Python 3",
   "language": "python",
   "name": "python3"
  },
  "language_info": {
   "codemirror_mode": {
    "name": "ipython",
    "version": 3
   },
   "file_extension": ".py",
   "mimetype": "text/x-python",
   "name": "python",
   "nbconvert_exporter": "python",
   "pygments_lexer": "ipython3",
   "version": "3.6.9"
  }
 },
 "nbformat": 4,
 "nbformat_minor": 1
}
