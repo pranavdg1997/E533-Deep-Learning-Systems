{
 "cells": [
  {
   "cell_type": "markdown",
   "metadata": {},
   "source": [
    "## Importing Libraries"
   ]
  },
  {
   "cell_type": "code",
   "execution_count": 1,
   "metadata": {
    "ExecuteTime": {
     "end_time": "2019-12-10T22:37:44.159339Z",
     "start_time": "2019-12-10T22:37:36.565884Z"
    },
    "colab": {},
    "colab_type": "code",
    "id": "qZSvNhZoM11N"
   },
   "outputs": [],
   "source": [
    "#importing basic libraries\n",
    "import numpy as np\n",
    "import pandas as pd\n",
    "import random\n",
    "import pickle\n",
    "import matplotlib.pyplot as plt\n",
    "import seaborn as sns\n",
    "import os\n",
    "import warnings\n",
    "import itertools \n",
    "from sklearn.metrics import *\n",
    "from sklearn.model_selection import train_test_split \n",
    "warnings.filterwarnings('ignore')\n",
    "%matplotlib inline\n",
    "\n",
    "#Importing pytorch functions and modules\n",
    "import torch\n",
    "# device = torch.device(\"cuda:0\" if torch.cuda.is_available() else \"cpu\")\n",
    "# print(torch.cuda.get_device_name(0))\n",
    "device = torch.device(\"cpu\")\n",
    "import torch.nn as nn\n",
    "import torch.nn.functional as F\n",
    "from torch.autograd import Variable\n",
    "from torch import optim\n",
    "\n",
    "import librosa\n",
    "from librosa.core import stft,istft\n",
    "from  sklearn.model_selection import train_test_split\n",
    "from sklearn.metrics import *\n",
    "from math import log\n",
    "\n",
    "\n",
    "#Setting random seed for reproducibility\n",
    "SEED = 1234\n",
    "torch.manual_seed(SEED)\n",
    "np.random.seed(SEED)\n",
    "torch.backends.cudnn.deterministic = True\n",
    "torch.backends.cudnn.benchmark = False"
   ]
  },
  {
   "cell_type": "markdown",
   "metadata": {},
   "source": [
    "## Loading and preprocessing data"
   ]
  },
  {
   "cell_type": "code",
   "execution_count": 2,
   "metadata": {
    "ExecuteTime": {
     "end_time": "2019-12-10T22:37:44.935116Z",
     "start_time": "2019-12-10T22:37:44.165782Z"
    },
    "colab": {},
    "colab_type": "code",
    "id": "qaK-rrDuM11S"
   },
   "outputs": [],
   "source": [
    "#Reading input file\n",
    "x = pickle.load(open(\"hw4_trs.pkl\",\"rb\"))\n",
    "#Creating training labels\n",
    "y = np.zeros((500,1))\n",
    "c=0\n",
    "for i in range(0,50):\n",
    "    for j in range(0,10):\n",
    "        y[c]=i\n",
    "        c+=1\n",
    "\n",
    "#Reading validation file\n",
    "x_val = pickle.load(open(\"hw4_tes.pkl\",\"rb\"))\n",
    "# x_val = x_val[:,0:x.shape[1]]\n",
    "#Creating validation labels\n",
    "y_val = np.zeros((200,1))\n",
    "c=0\n",
    "for i in range(0,20):\n",
    "  for j in range(0,10):\n",
    "    y_val[c]=i\n",
    "    c+=1"
   ]
  },
  {
   "cell_type": "code",
   "execution_count": 3,
   "metadata": {
    "ExecuteTime": {
     "end_time": "2019-12-10T22:37:44.952369Z",
     "start_time": "2019-12-10T22:37:44.938456Z"
    },
    "colab": {},
    "colab_type": "code",
    "id": "Fnx5qp7LM11V"
   },
   "outputs": [],
   "source": [
    "def stratified_subsample(arr,labels,subsamples):\n",
    "    sample_size = min(subsamples/len(labels),0.99)\n",
    "    arr_tr,arr_te,_,_ = train_test_split(arr,labels,test_size=sample_size,shuffle=True,stratify=labels)\n",
    "    return(arr_te)\n",
    "\n",
    "def triplet_to_data(X,x_id):\n",
    "    return(torch.tensor([X[x_id[0]],X[x_id[1]],X[x_id[2]]]))\n",
    "\n",
    "def get_stft(x):\n",
    "    X_complex = stft(x, n_fft=1024, hop_length=512)\n",
    "    X = np.abs(X_complex)\n",
    "    return(X.T)\n",
    "\n",
    "def create_pair_loader(x,labels,P_subsamples,N_subsamples):\n",
    "    X = np.apply_along_axis(get_stft,1,x)\n",
    "    labels = np.array(labels)\n",
    "    x_ind = np.arange(0,len(labels)).reshape(-1,1)\n",
    "    pair_batches = []\n",
    "    batch_labels = np.zeros((P_subsamples+N_subsamples,1))\n",
    "    batch_labels[0:P_subsamples]=1\n",
    "    for j,spk in enumerate(np.unique(labels)):\n",
    "        #print(\"Processing speaker:\"+str(spk))\n",
    "        x_spk = x_ind[np.where(labels==spk)]\n",
    "        x_nspk = x_ind[np.where(labels!=spk)]\n",
    "        #generating positive(same speaker) pairs\n",
    "        positive_pairs = np.array(random.sample(list(itertools.combinations(x_spk,2)),P_subsamples))\n",
    "        \n",
    "        #generating negative(different speaker) pairs\n",
    "        negative_pairs = np.array(random.sample(list(itertools.product(x_spk,x_nspk)),N_subsamples))\n",
    "        \n",
    "        \n",
    "        all_pairs = np.concatenate((positive_pairs,negative_pairs),0)\n",
    "        \n",
    "        x1 = np.apply_along_axis(lambda ind:X[ind],1,all_pairs[:,0].reshape(-1,1))#.reshape((all_pairs.shape[0],X.shape[1],X.shape[2]))\n",
    "        x2 = np.apply_along_axis(lambda ind:X[ind],1,all_pairs[:,1].reshape(-1,1))#.reshape((all_pairs.shape[0],X.shape[1],X.shape[2]))\n",
    "\n",
    "        pair_batches.append((x1,x2,batch_labels))\n",
    "    pair_loader = torch.utils.data.dataloader.DataLoader(pair_batches)\n",
    "\n",
    "    return(pair_loader)"
   ]
  },
  {
   "cell_type": "code",
   "execution_count": 4,
   "metadata": {
    "ExecuteTime": {
     "end_time": "2019-12-10T22:37:46.086564Z",
     "start_time": "2019-12-10T22:37:44.955202Z"
    },
    "colab": {},
    "colab_type": "code",
    "id": "T7S5MfQeM11X"
   },
   "outputs": [],
   "source": [
    "#Creating data loaders\n",
    "train_loader = create_pair_loader(x,y,P_subsamples=45,N_subsamples=45)\n",
    "val_loader = create_pair_loader(x_val,y_val,P_subsamples=45,N_subsamples=45)"
   ]
  },
  {
   "cell_type": "markdown",
   "metadata": {},
   "source": [
    "## Defining model "
   ]
  },
  {
   "cell_type": "code",
   "execution_count": 5,
   "metadata": {
    "ExecuteTime": {
     "end_time": "2019-12-10T22:37:46.108377Z",
     "start_time": "2019-12-10T22:37:46.096109Z"
    },
    "colab": {},
    "colab_type": "code",
    "id": "1Ozxu-9fW8O2"
   },
   "outputs": [],
   "source": [
    "class Rnn_model(nn.Module):\n",
    "    \"\"\"\n",
    "    Pytorch model class for removing noise from sound\n",
    "    \"\"\"\n",
    "    def __init__(self, input_dm, n_lstm_layers, n_lstm_units, output_dm,dropout,max_len):\n",
    "        \n",
    "        super(Rnn_model,self).__init__()\n",
    "        self.n_lstm_units = n_lstm_units\n",
    "        self.output_dm = output_dm\n",
    "        self.max_len = max_len\n",
    "        self.dropout = dropout\n",
    "        self.act1 = nn.PReLU(init=1.5)\n",
    "        self.act2 = nn.PReLU(init=1.5)\n",
    "\n",
    "        # design LSTM\n",
    "        self.lstm = nn.LSTM(\n",
    "            input_size=input_dm,\n",
    "            hidden_size=n_lstm_units,\n",
    "            num_layers=n_lstm_layers,\n",
    "            batch_first=True,\n",
    "            dropout = self.dropout,\n",
    "            bidirectional=True\n",
    "        )\n",
    "        \n",
    "        # output layer which projects back to tag space\n",
    "        self.fc = nn.Linear(self.n_lstm_units*2,self.output_dm)\n",
    "        self.dd = nn.Dropout(self.dropout)\n",
    "\n",
    "\n",
    "    def forward(self, X, X_lengths):\n",
    "        \n",
    "        X_packed = nn.utils.rnn.pack_padded_sequence(X,X_lengths, batch_first=True)\n",
    "        X_packed, (hidden, cell) = self.lstm(X_packed)\n",
    "        #X,_ = nn.utils.rnn.pad_packed_sequence(X_packed, batch_first=True,padding_value=0.0, total_length=self.max_len)\n",
    "        \n",
    "        hidden = hidden.reshape(hidden.shape[1],-1)\n",
    "        # X = X[:,-1,:]\n",
    "        \n",
    "        \n",
    "        X = self.act1(hidden)\n",
    "        X = self.dd(X)\n",
    "        \n",
    "        X = self.fc(X)\n",
    "        #X = self.act2(X)\n",
    "        X = self.dd(X)\n",
    "\n",
    "        # print(\"Mean of prediction:\"+str(torch.mean(X).item()))\n",
    "        # print(\"Median of prediction:\"+str(torch.median(X).item()))\n",
    "        # print(\"Minimum of prediction:\"+str(torch.min(X).item()))\n",
    "\n",
    "        return(X)\n",
    "\n",
    "# class ContrastiveLoss(nn.Module):\n",
    "#     \"\"\"\n",
    "#     Contrastive loss\n",
    "#     Takes embeddings of two samples and a target label == 1 if samples are from the same class and label == 0 otherwise\n",
    "#     \"\"\"\n",
    "\n",
    "#     def __init__(self, margin):\n",
    "#         super(ContrastiveLoss, self).__init__()\n",
    "#         self.margin = margin\n",
    "#         self.eps = 1e-9\n",
    "\n",
    "#     def forward(self, output1, output2, target, size_average=True):\n",
    "#         distances = (output2 - output1).pow(2).sum(1)  # squared distances\n",
    "#         losses = 0.5 * (target.float() * distances +\n",
    "#                         (1 + -1 * target).float() * F.relu(self.margin - (distances + self.eps).sqrt()).pow(2))\n",
    "#         return losses.mean() if size_average else losses.sum()       "
   ]
  },
  {
   "cell_type": "markdown",
   "metadata": {},
   "source": [
    "## Defining class for training the model"
   ]
  },
  {
   "cell_type": "code",
   "execution_count": 6,
   "metadata": {
    "ExecuteTime": {
     "end_time": "2019-12-10T22:37:46.350403Z",
     "start_time": "2019-12-10T22:37:46.110887Z"
    },
    "colab": {},
    "colab_type": "code",
    "id": "gUPQfJEBjkiW"
   },
   "outputs": [],
   "source": [
    "class train_siamese_lstm():\n",
    "  def __init__(self,\n",
    "               modelClass,\n",
    "               train_loader,\n",
    "               val_loader,\n",
    "               input_dm=513,\n",
    "               output_dm=128,\n",
    "               dropout=0,\n",
    "               max_len=40,\n",
    "               n_lstm_layers=1,\n",
    "               n_lstm_units=10):\n",
    "    \n",
    "    x1,x2,labels = next(iter(train_loader))\n",
    "    self.n_train = np.sum(np.array([x1.shape[1] for x1,x2,labels in train_loader])).astype(np.float)\n",
    "    self.n_val = np.sum(np.array([x1.shape[1] for x1,x2,labels in val_loader])).astype(np.float)\n",
    "    print(\"Training data points = \"+str(self.n_train))\n",
    "    print(\"Validation data points = \"+str(self.n_val))\n",
    "    \n",
    "    self.model = modelClass(input_dm=input_dm,\n",
    "                          n_lstm_layers=n_lstm_layers,\n",
    "                          n_lstm_units=n_lstm_units, \n",
    "                          output_dm=output_dm,\n",
    "                          dropout=dropout,\n",
    "                          max_len=max_len)\n",
    "    self.train_loader = train_loader\n",
    "    self.val_loader = val_loader\n",
    "    self.best_loss = torch.tensor(np.inf)\n",
    "\n",
    "  \n",
    "\n",
    "  def train_model(self,max_epochs,learning_rate,early_stopping_rounds,verbose=True,cutoff=0.5):\n",
    "    optimizer = torch.optim.Adam(self.model.parameters(), lr=learning_rate)\n",
    "\n",
    "    # criterion = ContrastiveLoss(margin=0.2).to(device)\n",
    "    criterion = nn.BCEWithLogitsLoss(pos_weight=torch.tensor([2]))\n",
    "    \n",
    "\n",
    "    self.train_loss_history = []\n",
    "    self.val_loss_history = []\n",
    "\n",
    "    \n",
    "    epoch = 0\n",
    "    rounds = 0\n",
    "    early_stopping_rounds = 5\n",
    "    stop = False\n",
    "    \n",
    "    while ((epoch < max_epochs)&(stop==False)):\n",
    "      batch_losses = []\n",
    "      for x1,x2,labels in self.train_loader:\n",
    "        x1 = x1.squeeze().to(device)\n",
    "        x1_lengths = torch.full((x1.shape[0],1),x1.shape[1]).reshape(-1)\n",
    "        x2 = x2.squeeze().to(device)\n",
    "        x2_lengths = torch.full((x2.shape[0],1),x2.shape[1]).reshape(-1)\n",
    "        labels = labels.squeeze().float().to(device)\n",
    "        #print(torch.unique(labels,return_counts=True))\n",
    "        y1 = self.model.forward(x1,x1_lengths)\n",
    "        y2 = self.model.forward(x2,x2_lengths)\n",
    "        y_hat_mag =  torch.bmm(y1.view(y1.shape[0], 1, y1.shape[1]), y2.view(y2.shape[0], y2.shape[1], 1)).reshape(-1,1)\n",
    "\n",
    "        w = torch.ones(x1.shape[0])\n",
    "        w[labels==0]=2\n",
    "        \n",
    "        loss = criterion(y_hat_mag,labels.reshape(-1,1))\n",
    "        loss.backward()\n",
    "        optimizer.step()\n",
    "        batch_losses.append(x1.shape[0]*loss.item())\n",
    "      #end of batch loop\n",
    "      train_loss = np.sum(np.array(batch_losses))/self.n_train\n",
    "      self.train_loss_history.append(train_loss)\n",
    "      \n",
    "      val_batch_losses = []\n",
    "      val_eq = 0.0\n",
    "      for x1,x2,labels in self.val_loader:\n",
    "        x1 = x1.squeeze().to(device)\n",
    "        x1_lengths = torch.full((x1.shape[0],1),x1.shape[1]).reshape(-1)\n",
    "        x2 = x2.squeeze().to(device)\n",
    "        x2_lengths = torch.full((x2.shape[0],1),x2.shape[1]).reshape(-1)\n",
    "        labels = labels.squeeze().float().to(device)\n",
    "        #print(torch.unique(labels,return_counts=True))\n",
    "        y1 = self.model.forward(x1,x1_lengths)\n",
    "        y2 = self.model.forward(x2,x2_lengths)\n",
    "        y_hat_mag =  torch.bmm(y1.view(y1.shape[0], 1, y1.shape[1]), y2.view(y2.shape[0], y2.shape[1], 1)).reshape(-1,1)\n",
    "\n",
    "        y_hat = F.sigmoid(y_hat_mag)\n",
    "\n",
    "        loss = criterion(y_hat_mag,labels.reshape(-1,1))\n",
    "        val_batch_losses.append(x1.shape[0]*loss.item())\n",
    "        y_hat_pred = torch.gt(y_hat,cutoff).int()\n",
    "        #print(torch.unique(y_hat_pred,return_counts=True))\n",
    "        val_eq += torch.sum(torch.eq(y_hat_pred.reshape(-1),labels.reshape(-1))).item()\n",
    "      #end of batch loop\n",
    "      val_acc = float(val_eq)/self.n_val\n",
    "      val_loss = np.sum(np.array(val_batch_losses))/self.n_val\n",
    "      self.val_loss_history.append(val_loss)\n",
    "    \n",
    "      if(val_loss<self.best_loss):\n",
    "        self.best_loss = val_loss\n",
    "        rounds = 0\n",
    "      else:\n",
    "        rounds += 1\n",
    "\n",
    "\n",
    "      \n",
    "      if(rounds>=early_stopping_rounds):\n",
    "        stop=True\n",
    "        \n",
    "      if(np.round(val_acc,1)>=0.7):\n",
    "        stop=True\n",
    "      \n",
    "      \n",
    "      if((verbose==True)&((epoch%5==0)|(stop==True))):\n",
    "        print(stop)\n",
    "        \n",
    "        print(\"----------------------------------------------------------------------------------\")\n",
    "        print(\"EPOCH:\"+str(epoch))\n",
    "        if(stop==True):\n",
    "            print(\"Training to be concluded after this epoch\") \n",
    "        print(\"Average training loss per sample  = \"+str(train_loss))\n",
    "        print(\"Average Validation loss per sample  = \"+str(val_loss))\n",
    "        print(\"Validation accuracy = \"+str(val_acc))\n",
    "        \n",
    "      epoch+=1\n",
    "    #While loop ends\n",
    "\n",
    "    self.plot_loss()\n",
    "\n",
    "\n",
    "  def plot_loss(self):\n",
    "    print(\"----------------------------------------------------------------------------------\")\n",
    "    plt.plot(self.train_loss_history)\n",
    "    plt.plot(self.val_loss_history)\n",
    "    plt.title('model loss')\n",
    "    plt.ylabel('loss')\n",
    "    plt.xlabel('epoch')\n",
    "    plt.legend(['train', 'validation'], loc='upper left')\n",
    "    plt.show()     "
   ]
  },
  {
   "cell_type": "code",
   "execution_count": 7,
   "metadata": {
    "ExecuteTime": {
     "end_time": "2019-12-10T22:37:46.766034Z",
     "start_time": "2019-12-10T22:37:46.355600Z"
    },
    "colab": {
     "base_uri": "https://localhost:8080/",
     "height": 51
    },
    "colab_type": "code",
    "id": "SMIlVj2sBkSv",
    "outputId": "41a11b2c-59df-486f-a1a2-e25490a4765e"
   },
   "outputs": [
    {
     "name": "stdout",
     "output_type": "stream",
     "text": [
      "Training data points = 4500.0\n",
      "Validation data points = 1800.0\n"
     ]
    }
   ],
   "source": [
    "ts = train_siamese_lstm(Rnn_model,\n",
    "                        train_loader,\n",
    "                        val_loader,\n",
    "                        input_dm=513,\n",
    "                        output_dm=64,\n",
    "                        dropout=0.6,\n",
    "                        max_len=45,\n",
    "                        n_lstm_layers=1,\n",
    "                        n_lstm_units=16)"
   ]
  },
  {
   "cell_type": "code",
   "execution_count": 8,
   "metadata": {
    "ExecuteTime": {
     "end_time": "2019-12-10T22:38:26.128078Z",
     "start_time": "2019-12-10T22:37:46.769585Z"
    },
    "colab": {
     "base_uri": "https://localhost:8080/",
     "height": 1000
    },
    "colab_type": "code",
    "id": "bHwQw8AnB_I3",
    "outputId": "b767fc13-fa10-4d61-a4fc-d0459e7bbea7"
   },
   "outputs": [
    {
     "name": "stdout",
     "output_type": "stream",
     "text": [
      "False\n",
      "----------------------------------------------------------------------------------\n",
      "EPOCH:0\n",
      "Average training loss per sample  = 1.0623459017276764\n",
      "Average Validation loss per sample  = 0.8707180887460708\n",
      "Validation accuracy = 0.44\n",
      "True\n",
      "----------------------------------------------------------------------------------\n",
      "EPOCH:4\n",
      "Training to be concluded after this epoch\n",
      "Average training loss per sample  = 0.3960317754745483\n",
      "Average Validation loss per sample  = 0.3866509959101677\n",
      "Validation accuracy = 0.7205555555555555\n",
      "----------------------------------------------------------------------------------\n"
     ]
    },
    {
     "data": {
      "image/png": "[encoded data removed]",
      "text/plain": [
       "<Figure size 432x288 with 1 Axes>"
      ]
     },
     "metadata": {
      "needs_background": "light"
     },
     "output_type": "display_data"
    }
   ],
   "source": [
    "ts.train_model(max_epochs=100,learning_rate=0.0001,early_stopping_rounds=5,cutoff=0.5)"
   ]
  },
  {
   "cell_type": "markdown",
   "metadata": {
    "colab": {
     "base_uri": "https://localhost:8080/",
     "height": 102
    },
    "colab_type": "code",
    "id": "bgEXFvYJz7Lh",
    "outputId": "5137d66e-90d9-4cf9-c0e0-9402b3eed5c1"
   },
   "source": [
    "## Conclusion\n",
    "We obtain ~= 70% accuracy on the test samples(referred to as validation accuracy in the training process)"
   ]
  },
  {
   "cell_type": "code",
   "execution_count": null,
   "metadata": {
    "colab": {},
    "colab_type": "code",
    "id": "lXCyrXWu0sf2"
   },
   "outputs": [],
   "source": []
  }
 ],
 "metadata": {
  "accelerator": "GPU",
  "colab": {
   "collapsed_sections": [],
   "name": "Assignment-4-Problem1.ipynb",
   "provenance": []
  },
  "kernelspec": {
   "display_name": "Python 3",
   "language": "python",
   "name": "python3"
  },
  "language_info": {
   "codemirror_mode": {
    "name": "ipython",
    "version": 3
   },
   "file_extension": ".py",
   "mimetype": "text/x-python",
   "name": "python",
   "nbconvert_exporter": "python",
   "pygments_lexer": "ipython3",
   "version": "3.6.9"
  }
 },
 "nbformat": 4,
 "nbformat_minor": 1
}
